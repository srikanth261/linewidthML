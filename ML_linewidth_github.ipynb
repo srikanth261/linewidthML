{
  "nbformat": 4,
  "nbformat_minor": 0,
  "metadata": {
    "colab": {
      "name": "ML_linewidth_github.ipynb",
      "provenance": [],
      "collapsed_sections": []
    },
    "kernelspec": {
      "name": "python3",
      "display_name": "Python 3"
    },
    "accelerator": "GPU"
  },
  "cells": [
    {
      "cell_type": "code",
      "metadata": {
        "id": "M_n8kUFvKTwP",
        "colab_type": "code",
        "outputId": "4279d460-11bf-4472-d0da-720e15c1fcaf",
        "colab": {
          "base_uri": "https://localhost:8080/",
          "height": 129
        }
      },
      "source": [
        "# The computation was done on google colab\n",
        "# First Load the Drive helper and mount\n",
        "\n",
        "from google.colab import drive \n",
        "\n",
        "# This will prompt for authorization.\n",
        "drive.mount('/content/drive')"
      ],
      "execution_count": 0,
      "outputs": [
        {
          "output_type": "stream",
          "text": [
            "Go to this URL in a browser: https://accounts.google.com/o/oauth2/auth?client_id=947318989803-6bn6qk8qdgf4n4g3pfee6491hc0brc4i.apps.googleusercontent.com&redirect_uri=urn%3aietf%3awg%3aoauth%3a2.0%3aoob&response_type=code&scope=email%20https%3a%2f%2fwww.googleapis.com%2fauth%2fdocs.test%20https%3a%2f%2fwww.googleapis.com%2fauth%2fdrive%20https%3a%2f%2fwww.googleapis.com%2fauth%2fdrive.photos.readonly%20https%3a%2f%2fwww.googleapis.com%2fauth%2fpeopleapi.readonly\n",
            "\n",
            "Enter your authorization code:\n",
            "··········\n",
            "Mounted at /content/drive\n"
          ],
          "name": "stdout"
        }
      ]
    },
    {
      "cell_type": "code",
      "metadata": {
        "id": "wGweUoHXKdzK",
        "colab_type": "code",
        "outputId": "cbe2d146-277c-467f-e633-2557f8e350b6",
        "colab": {
          "base_uri": "https://localhost:8080/",
          "height": 35
        }
      },
      "source": [
        "import os\n",
        "os.chdir('/content/drive/My Drive/files_4096_128')\n",
        "# setting the working directory\n",
        "os.getcwd() "
      ],
      "execution_count": 0,
      "outputs": [
        {
          "output_type": "execute_result",
          "data": {
            "text/plain": [
              "'/content/drive/My Drive/Hebin/files_4096_128'"
            ]
          },
          "metadata": {
            "tags": []
          },
          "execution_count": 2
        }
      ]
    },
    {
      "cell_type": "markdown",
      "metadata": {
        "id": "Th3OhK1YW_Zh",
        "colab_type": "text"
      },
      "source": [
        "This is a dataset with dw starting at 0\n",
        "\n",
        "1024 arrays\n",
        "\n",
        "64 x 64\n",
        "\n",
        "Update: arrays are min-max scaled"
      ]
    },
    {
      "cell_type": "code",
      "metadata": {
        "id": "cxjC5VdmNdlH",
        "colab_type": "code",
        "outputId": "935b5100-4cbc-4b15-f4d0-89425a7fee6a",
        "colab": {
          "base_uri": "https://localhost:8080/",
          "height": 83
        }
      },
      "source": [
        "import numpy as np\n",
        "import pandas as pd\n",
        "import glob\n",
        "import sys\n",
        "from sklearn.model_selection import train_test_split\n",
        "import matplotlib.pyplot as plt\n",
        "import seaborn\n",
        "import matplotlib.mlab as mlab\n",
        "import matplotlib.colors\n",
        "%matplotlib inline\n",
        "\n",
        "from keras import layers\n",
        "from keras import models\n",
        "from keras import backend as K\n",
        "\n",
        "from keras.preprocessing.image import ImageDataGenerator\n",
        "\n",
        "from keras.models import Sequential\n",
        "from keras.layers.core import Dense, Dropout, Activation, Flatten\n",
        "from keras.layers.convolutional import Convolution2D\n",
        "from keras.optimizers import RMSprop, Adam, Adadelta\n",
        "\n",
        "from keras.preprocessing.image import ImageDataGenerator\n",
        "\n",
        "import cv2"
      ],
      "execution_count": 0,
      "outputs": [
        {
          "output_type": "stream",
          "text": [
            "Using TensorFlow backend.\n"
          ],
          "name": "stderr"
        },
        {
          "output_type": "display_data",
          "data": {
            "text/html": [
              "<p style=\"color: red;\">\n",
              "The default version of TensorFlow in Colab will soon switch to TensorFlow 2.x.<br>\n",
              "We recommend you <a href=\"https://www.tensorflow.org/guide/migrate\" target=\"_blank\">upgrade</a> now \n",
              "or ensure your notebook will continue to use TensorFlow 1.x via the <code>%tensorflow_version 1.x</code> magic:\n",
              "<a href=\"https://colab.research.google.com/notebooks/tensorflow_version.ipynb\" target=\"_blank\">more info</a>.</p>\n"
            ],
            "text/plain": [
              "<IPython.core.display.HTML object>"
            ]
          },
          "metadata": {
            "tags": []
          }
        }
      ]
    },
    {
      "cell_type": "code",
      "metadata": {
        "id": "RhNVjuohQVUg",
        "colab_type": "code",
        "colab": {}
      },
      "source": [
        "np.random.seed(42)"
      ],
      "execution_count": 0,
      "outputs": []
    },
    {
      "cell_type": "code",
      "metadata": {
        "id": "gJV7NtYCRsAk",
        "colab_type": "code",
        "colab": {}
      },
      "source": [
        "def coeff_determination(y_true, y_pred):\n",
        "    SS_res =  K.sum(K.square( y_true-y_pred )) \n",
        "    SS_tot = K.sum(K.square( y_true - K.mean(y_true) ) ) \n",
        "    return ( 1 - SS_res/(SS_tot + K.epsilon()) )"
      ],
      "execution_count": 0,
      "outputs": []
    },
    {
      "cell_type": "code",
      "metadata": {
        "colab_type": "code",
        "id": "jBTzF9Yapy9a",
        "colab": {}
      },
      "source": [
        "# Each array is a csv file. So first need to read each file using pandas to convert it into a data frame\n",
        "\n",
        "full = range(1,4097)\n",
        "\n",
        "file_names = [str(i)+\".csv\" for i in full]\n",
        "\n",
        "\n"
      ],
      "execution_count": 0,
      "outputs": []
    },
    {
      "cell_type": "code",
      "metadata": {
        "id": "JB-FW_vSrVzE",
        "colab_type": "code",
        "colab": {}
      },
      "source": [
        "X_train = file_names\n",
        "\n",
        "X_train = [pd.read_csv(i, header=None) for i in X_train]\n",
        "  \n",
        "  \n",
        "X_train = [np.array(i) for i in X_train]\n",
        "  \n"
      ],
      "execution_count": 0,
      "outputs": []
    },
    {
      "cell_type": "code",
      "metadata": {
        "id": "7gN8mI_3s4ol",
        "colab_type": "code",
        "outputId": "be005c71-3867-4b68-ac34-8b182dc92f59",
        "colab": {
          "base_uri": "https://localhost:8080/",
          "height": 35
        }
      },
      "source": [
        "X_train[0].shape"
      ],
      "execution_count": 0,
      "outputs": [
        {
          "output_type": "execute_result",
          "data": {
            "text/plain": [
              "(128, 128)"
            ]
          },
          "metadata": {
            "tags": []
          },
          "execution_count": 10
        }
      ]
    },
    {
      "cell_type": "code",
      "metadata": {
        "id": "npIFqaJcPDoE",
        "colab_type": "code",
        "colab": {}
      },
      "source": [
        "# The labels are in the file labels.csv\n",
        "y_train = pd.read_csv('labels.csv', header= None)"
      ],
      "execution_count": 0,
      "outputs": []
    },
    {
      "cell_type": "code",
      "metadata": {
        "id": "o_qx19XPv_CI",
        "colab_type": "code",
        "outputId": "01da756a-f787-4861-d820-db9c5c174344",
        "colab": {
          "base_uri": "https://localhost:8080/",
          "height": 36
        }
      },
      "source": [
        "# selecting some of the samples for visualization\n",
        "locations = np.arange(8)\n",
        "\n",
        "labels = [str(i) for i in np.arange(374,376,0.25)]\n",
        "\n",
        "len(locations), len(labels)"
      ],
      "execution_count": 0,
      "outputs": [
        {
          "output_type": "execute_result",
          "data": {
            "text/plain": [
              "(8, 8)"
            ]
          },
          "metadata": {
            "tags": []
          },
          "execution_count": 9
        }
      ]
    },
    {
      "cell_type": "code",
      "metadata": {
        "id": "kdoRQ-AhD9Vq",
        "colab_type": "code",
        "colab": {}
      },
      "source": [
        "fig = plt.figure(figsize=(12,12),constrained_layout=True)\n",
        "\n",
        "\n",
        "k = [0, 32, 48, 1024, 1024+32, 1024+48, 2048, 2048+32, 2048+48]\n",
        "for i in range(0,9):\n",
        "  j = k[i]\n",
        "  plt.subplot(3,3,i+1)\n",
        "  plt.contour(X_train[j],20)\n",
        "  plt.title(\"$\\gamma$ = \" + str(np.round(y_train.loc[j][0], 3)) + \" & $\\sigma$ = \" + str(np.round(y_train.loc[j][1], 3))  ,fontsize = 10)\n",
        "  plt.xticks(np.arange(0,135,60) ,np.arange(374,376.5), fontsize=10)\n",
        "  plt.yticks(np.arange(0,135,60) ,np.arange(374,376.5), fontsize=10)\n",
        "\n",
        "\n",
        "\n",
        "plt.savefig(\"contours.eps\")"
      ],
      "execution_count": 0,
      "outputs": []
    },
    {
      "cell_type": "code",
      "metadata": {
        "id": "vLpc-d7C1BwM",
        "colab_type": "code",
        "colab": {}
      },
      "source": [
        "\n",
        "\n",
        "\n",
        "k = [0, 32, 1024, 1024+32]\n",
        "for i in range(0,3):\n",
        "  j = k[i]\n",
        "  plt.figure(figsize=(1.5,1.5))\n",
        "  plt.contour(X_train[j],20, cmap='inferno')\n",
        "  plt.title(\"$\\gamma$ = \" + str(np.round(y_train.loc[j][0], 3)) + \" & $\\sigma$ = \" + str(np.round(y_train.loc[j][1], 3))  ,fontsize = 8)\n",
        "  plt.xticks(np.arange(0,135,60) ,np.arange(374,376.5), fontsize=6)\n",
        "  plt.yticks(np.arange(0,135,60) ,np.arange(374,376.5), fontsize=6)\n",
        "  plt.savefig(\"contour\" + str(i) + \".svg\")\n",
        "\n",
        "  \n",
        "plt.figure(figsize=(1.85,1.5))\n",
        "cs = plt.contour(X_train[k[3]],20, cmap='inferno')\n",
        "plt.title(\"$\\gamma$ = \" + str(np.round(y_train.loc[k[3]][0], 3)) + \" & $\\sigma$ = \" + str(np.round(y_train.loc[k[3]][1], 3))  ,fontsize = 8)\n",
        "plt.xticks(np.arange(0,135,60) ,np.arange(374,376.5), fontsize=6)\n",
        "plt.yticks(np.arange(0,135,60) ,np.arange(374,376.5), fontsize=6)\n",
        "norm= matplotlib.colors.Normalize(vmin=cs.cvalues.min(), vmax=cs.cvalues.max())\n",
        "# a previous version of this used\n",
        "#norm= matplotlib.colors.Normalize(vmin=cs.vmin, vmax=cs.vmax)\n",
        "# which does not work any more\n",
        "sm = plt.cm.ScalarMappable(norm=norm, cmap = cs.cmap)\n",
        "sm.set_array([])\n",
        "plt.colorbar(sm)\n",
        "plt.savefig(\"contour\" + str(3) + \".svg\")\n"
      ],
      "execution_count": 0,
      "outputs": []
    },
    {
      "cell_type": "code",
      "metadata": {
        "id": "scQys5c7VJJY",
        "colab_type": "code",
        "colab": {}
      },
      "source": [
        "# min max scaling the arrays\n",
        "def scaler(numpy_array):\n",
        "  array_min = np.min(numpy_array)\n",
        "  array_range = np.max(numpy_array) - np.min(numpy_array)\n",
        "  \n",
        "  return (numpy_array - array_min)/array_range"
      ],
      "execution_count": 0,
      "outputs": []
    },
    {
      "cell_type": "code",
      "metadata": {
        "id": "QsHfpIfGV_NH",
        "colab_type": "code",
        "colab": {}
      },
      "source": [
        "X_train = [scaler(i) for i in X_train]"
      ],
      "execution_count": 0,
      "outputs": []
    },
    {
      "cell_type": "code",
      "metadata": {
        "id": "yktGsHwbQ-CI",
        "colab_type": "code",
        "outputId": "f4635eaf-1e25-48b2-c6a5-0ba019222665",
        "colab": {
          "base_uri": "https://localhost:8080/",
          "height": 35
        }
      },
      "source": [
        "X_train = np.array([i.reshape((128,128,1)) for i in X_train])\n",
        "\n",
        "X_train, X_test, y_train, y_test = train_test_split(\n",
        "    X_train, y_train, test_size=0.1, random_state=42)\n",
        "  \n",
        "\n",
        "X_train.shape, y_train.shape, X_test.shape, y_test.shape"
      ],
      "execution_count": 0,
      "outputs": [
        {
          "output_type": "execute_result",
          "data": {
            "text/plain": [
              "((3686, 128, 128, 1), (3686, 2), (410, 128, 128, 1), (410, 2))"
            ]
          },
          "metadata": {
            "tags": []
          },
          "execution_count": 13
        }
      ]
    },
    {
      "cell_type": "code",
      "metadata": {
        "id": "FFGsPElAwH_-",
        "colab_type": "code",
        "outputId": "55dc7396-e397-446e-f06a-c77f593ef374",
        "colab": {
          "base_uri": "https://localhost:8080/",
          "height": 1000
        }
      },
      "source": [
        "model = models.Sequential()\n",
        "model.add(layers.Conv2D(32, (3, 3), activation='relu', input_shape=(128,128, 1)))\n",
        "model.add(layers.MaxPooling2D((2, 2)))\n",
        "model.add(layers.Conv2D(64, (3, 3), activation='relu'))\n",
        "model.add(layers.MaxPooling2D((2, 2)))\n",
        "model.add(layers.Conv2D(64, (3, 3), activation='relu'))\n",
        "\n",
        "model.add(layers.Flatten())\n",
        "model.add(layers.Dense(64, activation='relu'))\n",
        "model.add(layers.Dense(2, activation='linear'))\n",
        "\n",
        "  \n",
        "  \n",
        "opt = Adam(lr=0.00001)\n",
        "model.compile(loss='mean_squared_error', optimizer= opt, metrics=[coeff_determination])\n",
        "history = model.fit(X_train, y_train, epochs=200, batch_size=32, validation_split=0.1)\n",
        "  "
      ],
      "execution_count": 0,
      "outputs": [
        {
          "output_type": "stream",
          "text": [
            "WARNING: Logging before flag parsing goes to stderr.\n",
            "W0820 20:03:18.603954 140110623844224 deprecation_wrapper.py:119] From /usr/local/lib/python3.6/dist-packages/keras/backend/tensorflow_backend.py:74: The name tf.get_default_graph is deprecated. Please use tf.compat.v1.get_default_graph instead.\n",
            "\n",
            "W0820 20:03:18.643021 140110623844224 deprecation_wrapper.py:119] From /usr/local/lib/python3.6/dist-packages/keras/backend/tensorflow_backend.py:517: The name tf.placeholder is deprecated. Please use tf.compat.v1.placeholder instead.\n",
            "\n",
            "W0820 20:03:18.651204 140110623844224 deprecation_wrapper.py:119] From /usr/local/lib/python3.6/dist-packages/keras/backend/tensorflow_backend.py:4138: The name tf.random_uniform is deprecated. Please use tf.random.uniform instead.\n",
            "\n",
            "W0820 20:03:18.678028 140110623844224 deprecation_wrapper.py:119] From /usr/local/lib/python3.6/dist-packages/keras/backend/tensorflow_backend.py:3976: The name tf.nn.max_pool is deprecated. Please use tf.nn.max_pool2d instead.\n",
            "\n",
            "W0820 20:03:18.745629 140110623844224 deprecation_wrapper.py:119] From /usr/local/lib/python3.6/dist-packages/keras/optimizers.py:790: The name tf.train.Optimizer is deprecated. Please use tf.compat.v1.train.Optimizer instead.\n",
            "\n",
            "W0820 20:03:18.882809 140110623844224 deprecation_wrapper.py:119] From /usr/local/lib/python3.6/dist-packages/keras/backend/tensorflow_backend.py:986: The name tf.assign_add is deprecated. Please use tf.compat.v1.assign_add instead.\n",
            "\n",
            "W0820 20:03:18.998065 140110623844224 deprecation_wrapper.py:119] From /usr/local/lib/python3.6/dist-packages/keras/backend/tensorflow_backend.py:973: The name tf.assign is deprecated. Please use tf.compat.v1.assign instead.\n",
            "\n"
          ],
          "name": "stderr"
        },
        {
          "output_type": "stream",
          "text": [
            "Train on 3317 samples, validate on 369 samples\n",
            "Epoch 1/200\n",
            "3317/3317 [==============================] - 9s 3ms/step - loss: 0.0020 - coeff_determination: 0.6565 - val_loss: 5.8409e-04 - val_coeff_determination: 0.9086\n",
            "Epoch 2/200\n",
            "3317/3317 [==============================] - 2s 613us/step - loss: 2.2866e-04 - coeff_determination: 0.9628 - val_loss: 1.7230e-04 - val_coeff_determination: 0.9722\n",
            "Epoch 3/200\n",
            "3317/3317 [==============================] - 2s 610us/step - loss: 9.4934e-05 - coeff_determination: 0.9845 - val_loss: 8.1768e-05 - val_coeff_determination: 0.9872\n",
            "Epoch 4/200\n",
            "3317/3317 [==============================] - 2s 611us/step - loss: 6.6663e-05 - coeff_determination: 0.9892 - val_loss: 6.6112e-05 - val_coeff_determination: 0.9899\n",
            "Epoch 5/200\n",
            "3317/3317 [==============================] - 2s 617us/step - loss: 5.2318e-05 - coeff_determination: 0.9914 - val_loss: 6.0973e-05 - val_coeff_determination: 0.9903\n",
            "Epoch 6/200\n",
            "3317/3317 [==============================] - 2s 614us/step - loss: 4.1271e-05 - coeff_determination: 0.9932 - val_loss: 4.8293e-05 - val_coeff_determination: 0.9926\n",
            "Epoch 7/200\n",
            "3317/3317 [==============================] - 2s 609us/step - loss: 3.6780e-05 - coeff_determination: 0.9940 - val_loss: 4.2061e-05 - val_coeff_determination: 0.9936\n",
            "Epoch 8/200\n",
            "3317/3317 [==============================] - 2s 614us/step - loss: 3.2544e-05 - coeff_determination: 0.9947 - val_loss: 2.9992e-05 - val_coeff_determination: 0.9954\n",
            "Epoch 9/200\n",
            "3317/3317 [==============================] - 2s 614us/step - loss: 2.6889e-05 - coeff_determination: 0.9956 - val_loss: 2.5873e-05 - val_coeff_determination: 0.9960\n",
            "Epoch 10/200\n",
            "3317/3317 [==============================] - 2s 609us/step - loss: 2.3775e-05 - coeff_determination: 0.9961 - val_loss: 2.3214e-05 - val_coeff_determination: 0.9965\n",
            "Epoch 11/200\n",
            "3317/3317 [==============================] - 2s 606us/step - loss: 2.0848e-05 - coeff_determination: 0.9966 - val_loss: 2.1715e-05 - val_coeff_determination: 0.9967\n",
            "Epoch 12/200\n",
            "3317/3317 [==============================] - 2s 607us/step - loss: 1.9240e-05 - coeff_determination: 0.9969 - val_loss: 2.2395e-05 - val_coeff_determination: 0.9965\n",
            "Epoch 13/200\n",
            "3317/3317 [==============================] - 2s 605us/step - loss: 1.7418e-05 - coeff_determination: 0.9972 - val_loss: 1.8237e-05 - val_coeff_determination: 0.9972\n",
            "Epoch 14/200\n",
            "3317/3317 [==============================] - 2s 612us/step - loss: 1.7913e-05 - coeff_determination: 0.9971 - val_loss: 2.0371e-05 - val_coeff_determination: 0.9969\n",
            "Epoch 15/200\n",
            "3317/3317 [==============================] - 2s 618us/step - loss: 1.4363e-05 - coeff_determination: 0.9977 - val_loss: 1.6129e-05 - val_coeff_determination: 0.9975\n",
            "Epoch 16/200\n",
            "3317/3317 [==============================] - 2s 610us/step - loss: 1.7012e-05 - coeff_determination: 0.9972 - val_loss: 1.7215e-05 - val_coeff_determination: 0.9973\n",
            "Epoch 17/200\n",
            "3317/3317 [==============================] - 2s 614us/step - loss: 1.4960e-05 - coeff_determination: 0.9976 - val_loss: 1.9519e-05 - val_coeff_determination: 0.9970\n",
            "Epoch 18/200\n",
            "3317/3317 [==============================] - 2s 612us/step - loss: 1.3095e-05 - coeff_determination: 0.9979 - val_loss: 1.3062e-05 - val_coeff_determination: 0.9980\n",
            "Epoch 19/200\n",
            "3317/3317 [==============================] - 2s 614us/step - loss: 1.2371e-05 - coeff_determination: 0.9980 - val_loss: 1.4356e-05 - val_coeff_determination: 0.9978\n",
            "Epoch 20/200\n",
            "3317/3317 [==============================] - 2s 622us/step - loss: 1.3425e-05 - coeff_determination: 0.9978 - val_loss: 1.1646e-05 - val_coeff_determination: 0.9982\n",
            "Epoch 21/200\n",
            "3317/3317 [==============================] - 2s 617us/step - loss: 1.1220e-05 - coeff_determination: 0.9982 - val_loss: 1.0811e-05 - val_coeff_determination: 0.9983\n",
            "Epoch 22/200\n",
            "3317/3317 [==============================] - 2s 612us/step - loss: 1.0206e-05 - coeff_determination: 0.9984 - val_loss: 1.0839e-05 - val_coeff_determination: 0.9984\n",
            "Epoch 23/200\n",
            "3317/3317 [==============================] - 2s 615us/step - loss: 1.0019e-05 - coeff_determination: 0.9984 - val_loss: 1.1588e-05 - val_coeff_determination: 0.9983\n",
            "Epoch 24/200\n",
            "3317/3317 [==============================] - 2s 619us/step - loss: 1.1056e-05 - coeff_determination: 0.9982 - val_loss: 1.4761e-05 - val_coeff_determination: 0.9977\n",
            "Epoch 25/200\n",
            "3317/3317 [==============================] - 2s 621us/step - loss: 1.0889e-05 - coeff_determination: 0.9982 - val_loss: 1.0141e-05 - val_coeff_determination: 0.9985\n",
            "Epoch 26/200\n",
            "3317/3317 [==============================] - 2s 614us/step - loss: 9.9447e-06 - coeff_determination: 0.9984 - val_loss: 8.9912e-06 - val_coeff_determination: 0.9986\n",
            "Epoch 27/200\n",
            "3317/3317 [==============================] - 2s 616us/step - loss: 8.3539e-06 - coeff_determination: 0.9987 - val_loss: 9.8243e-06 - val_coeff_determination: 0.9985\n",
            "Epoch 28/200\n",
            "3317/3317 [==============================] - 2s 621us/step - loss: 9.5926e-06 - coeff_determination: 0.9985 - val_loss: 9.3390e-06 - val_coeff_determination: 0.9986\n",
            "Epoch 29/200\n",
            "3317/3317 [==============================] - 2s 622us/step - loss: 9.5368e-06 - coeff_determination: 0.9984 - val_loss: 9.5869e-06 - val_coeff_determination: 0.9986\n",
            "Epoch 30/200\n",
            "3317/3317 [==============================] - 2s 622us/step - loss: 9.0823e-06 - coeff_determination: 0.9985 - val_loss: 1.0632e-05 - val_coeff_determination: 0.9984\n",
            "Epoch 31/200\n",
            "3317/3317 [==============================] - 2s 622us/step - loss: 7.5817e-06 - coeff_determination: 0.9988 - val_loss: 9.8942e-06 - val_coeff_determination: 0.9985\n",
            "Epoch 32/200\n",
            "3317/3317 [==============================] - 2s 619us/step - loss: 7.9121e-06 - coeff_determination: 0.9987 - val_loss: 1.5597e-05 - val_coeff_determination: 0.9976\n",
            "Epoch 33/200\n",
            "3317/3317 [==============================] - 2s 624us/step - loss: 9.2660e-06 - coeff_determination: 0.9985 - val_loss: 1.2317e-05 - val_coeff_determination: 0.9981\n",
            "Epoch 34/200\n",
            "3317/3317 [==============================] - 2s 625us/step - loss: 7.5736e-06 - coeff_determination: 0.9988 - val_loss: 6.9684e-06 - val_coeff_determination: 0.9989\n",
            "Epoch 35/200\n",
            "3317/3317 [==============================] - 2s 628us/step - loss: 8.2532e-06 - coeff_determination: 0.9987 - val_loss: 7.7830e-06 - val_coeff_determination: 0.9988\n",
            "Epoch 36/200\n",
            "3317/3317 [==============================] - 2s 624us/step - loss: 7.8839e-06 - coeff_determination: 0.9987 - val_loss: 6.5126e-06 - val_coeff_determination: 0.9990\n",
            "Epoch 37/200\n",
            "3317/3317 [==============================] - 2s 625us/step - loss: 6.6115e-06 - coeff_determination: 0.9989 - val_loss: 1.0072e-05 - val_coeff_determination: 0.9985\n",
            "Epoch 38/200\n",
            "3317/3317 [==============================] - 2s 625us/step - loss: 9.1651e-06 - coeff_determination: 0.9985 - val_loss: 1.9889e-05 - val_coeff_determination: 0.9969\n",
            "Epoch 39/200\n",
            "3317/3317 [==============================] - 2s 626us/step - loss: 7.6981e-06 - coeff_determination: 0.9988 - val_loss: 6.6155e-06 - val_coeff_determination: 0.9990\n",
            "Epoch 40/200\n",
            "3317/3317 [==============================] - 2s 626us/step - loss: 6.1935e-06 - coeff_determination: 0.9990 - val_loss: 1.4474e-05 - val_coeff_determination: 0.9978\n",
            "Epoch 41/200\n",
            "3317/3317 [==============================] - 2s 620us/step - loss: 6.9210e-06 - coeff_determination: 0.9989 - val_loss: 7.5245e-06 - val_coeff_determination: 0.9989\n",
            "Epoch 42/200\n",
            "3317/3317 [==============================] - 2s 620us/step - loss: 6.3994e-06 - coeff_determination: 0.9990 - val_loss: 1.2885e-05 - val_coeff_determination: 0.9979\n",
            "Epoch 43/200\n",
            "3317/3317 [==============================] - 2s 622us/step - loss: 6.2751e-06 - coeff_determination: 0.9990 - val_loss: 5.2849e-06 - val_coeff_determination: 0.9992\n",
            "Epoch 44/200\n",
            "3317/3317 [==============================] - 2s 618us/step - loss: 6.7200e-06 - coeff_determination: 0.9989 - val_loss: 6.6103e-06 - val_coeff_determination: 0.9990\n",
            "Epoch 45/200\n",
            "3317/3317 [==============================] - 2s 620us/step - loss: 6.8670e-06 - coeff_determination: 0.9989 - val_loss: 5.3853e-06 - val_coeff_determination: 0.9992\n",
            "Epoch 46/200\n",
            "3317/3317 [==============================] - 2s 620us/step - loss: 6.1401e-06 - coeff_determination: 0.9990 - val_loss: 7.0098e-06 - val_coeff_determination: 0.9989\n",
            "Epoch 47/200\n",
            "3317/3317 [==============================] - 2s 622us/step - loss: 6.2660e-06 - coeff_determination: 0.9990 - val_loss: 7.7829e-06 - val_coeff_determination: 0.9988\n",
            "Epoch 48/200\n",
            "3317/3317 [==============================] - 2s 618us/step - loss: 6.4284e-06 - coeff_determination: 0.9990 - val_loss: 5.3898e-06 - val_coeff_determination: 0.9992\n",
            "Epoch 49/200\n",
            "3317/3317 [==============================] - 2s 623us/step - loss: 6.3764e-06 - coeff_determination: 0.9990 - val_loss: 6.6573e-06 - val_coeff_determination: 0.9990\n",
            "Epoch 50/200\n",
            "3317/3317 [==============================] - 2s 623us/step - loss: 6.9013e-06 - coeff_determination: 0.9989 - val_loss: 7.4581e-06 - val_coeff_determination: 0.9988\n",
            "Epoch 51/200\n",
            "3317/3317 [==============================] - 2s 617us/step - loss: 5.9614e-06 - coeff_determination: 0.9990 - val_loss: 1.0593e-05 - val_coeff_determination: 0.9983\n",
            "Epoch 52/200\n",
            "3317/3317 [==============================] - 2s 620us/step - loss: 5.9277e-06 - coeff_determination: 0.9990 - val_loss: 1.2288e-05 - val_coeff_determination: 0.9981\n",
            "Epoch 53/200\n",
            "3317/3317 [==============================] - 2s 616us/step - loss: 5.9590e-06 - coeff_determination: 0.9990 - val_loss: 4.6079e-06 - val_coeff_determination: 0.9993\n",
            "Epoch 54/200\n",
            "3317/3317 [==============================] - 2s 620us/step - loss: 5.6482e-06 - coeff_determination: 0.9991 - val_loss: 4.8135e-06 - val_coeff_determination: 0.9993\n",
            "Epoch 55/200\n",
            "3317/3317 [==============================] - 2s 620us/step - loss: 4.9196e-06 - coeff_determination: 0.9992 - val_loss: 5.8766e-06 - val_coeff_determination: 0.9991\n",
            "Epoch 56/200\n",
            "3317/3317 [==============================] - 2s 617us/step - loss: 6.0223e-06 - coeff_determination: 0.9990 - val_loss: 5.3700e-06 - val_coeff_determination: 0.9992\n",
            "Epoch 57/200\n",
            "3317/3317 [==============================] - 2s 620us/step - loss: 4.8260e-06 - coeff_determination: 0.9992 - val_loss: 6.4403e-06 - val_coeff_determination: 0.9990\n",
            "Epoch 58/200\n",
            "3317/3317 [==============================] - 2s 617us/step - loss: 4.5716e-06 - coeff_determination: 0.9993 - val_loss: 1.1250e-05 - val_coeff_determination: 0.9982\n",
            "Epoch 59/200\n",
            "3317/3317 [==============================] - 2s 619us/step - loss: 5.2900e-06 - coeff_determination: 0.9991 - val_loss: 4.0402e-06 - val_coeff_determination: 0.9994\n",
            "Epoch 60/200\n",
            "3317/3317 [==============================] - 2s 622us/step - loss: 5.1667e-06 - coeff_determination: 0.9992 - val_loss: 4.7211e-06 - val_coeff_determination: 0.9993\n",
            "Epoch 61/200\n",
            "3317/3317 [==============================] - 2s 616us/step - loss: 5.0142e-06 - coeff_determination: 0.9992 - val_loss: 7.4180e-06 - val_coeff_determination: 0.9988\n",
            "Epoch 62/200\n",
            "3317/3317 [==============================] - 2s 616us/step - loss: 5.7757e-06 - coeff_determination: 0.9991 - val_loss: 5.3182e-06 - val_coeff_determination: 0.9992\n",
            "Epoch 63/200\n",
            "3317/3317 [==============================] - 2s 616us/step - loss: 5.2355e-06 - coeff_determination: 0.9992 - val_loss: 4.8418e-06 - val_coeff_determination: 0.9993\n",
            "Epoch 64/200\n",
            "3317/3317 [==============================] - 2s 618us/step - loss: 4.2640e-06 - coeff_determination: 0.9993 - val_loss: 3.9991e-06 - val_coeff_determination: 0.9994\n",
            "Epoch 65/200\n",
            "3317/3317 [==============================] - 2s 618us/step - loss: 5.2550e-06 - coeff_determination: 0.9991 - val_loss: 4.3143e-06 - val_coeff_determination: 0.9993\n",
            "Epoch 66/200\n",
            "3317/3317 [==============================] - 2s 613us/step - loss: 4.7208e-06 - coeff_determination: 0.9992 - val_loss: 3.9050e-06 - val_coeff_determination: 0.9994\n",
            "Epoch 67/200\n",
            "3317/3317 [==============================] - 2s 615us/step - loss: 4.6445e-06 - coeff_determination: 0.9992 - val_loss: 3.7932e-06 - val_coeff_determination: 0.9994\n",
            "Epoch 68/200\n",
            "3317/3317 [==============================] - 2s 615us/step - loss: 4.5756e-06 - coeff_determination: 0.9993 - val_loss: 3.5595e-06 - val_coeff_determination: 0.9995\n",
            "Epoch 69/200\n",
            "3317/3317 [==============================] - 2s 615us/step - loss: 3.9601e-06 - coeff_determination: 0.9994 - val_loss: 4.2601e-06 - val_coeff_determination: 0.9993\n",
            "Epoch 70/200\n",
            "3317/3317 [==============================] - 2s 614us/step - loss: 4.2504e-06 - coeff_determination: 0.9993 - val_loss: 5.3715e-06 - val_coeff_determination: 0.9992\n",
            "Epoch 71/200\n",
            "3317/3317 [==============================] - 2s 618us/step - loss: 5.0892e-06 - coeff_determination: 0.9992 - val_loss: 3.7910e-06 - val_coeff_determination: 0.9994\n",
            "Epoch 72/200\n",
            "3317/3317 [==============================] - 2s 616us/step - loss: 3.5765e-06 - coeff_determination: 0.9994 - val_loss: 5.3117e-06 - val_coeff_determination: 0.9992\n",
            "Epoch 73/200\n",
            "3317/3317 [==============================] - 2s 617us/step - loss: 5.0001e-06 - coeff_determination: 0.9992 - val_loss: 3.7529e-06 - val_coeff_determination: 0.9994\n",
            "Epoch 74/200\n",
            "3317/3317 [==============================] - 2s 617us/step - loss: 4.5715e-06 - coeff_determination: 0.9993 - val_loss: 4.0113e-06 - val_coeff_determination: 0.9994\n",
            "Epoch 75/200\n",
            "3317/3317 [==============================] - 2s 621us/step - loss: 4.6684e-06 - coeff_determination: 0.9992 - val_loss: 3.6178e-06 - val_coeff_determination: 0.9994\n",
            "Epoch 76/200\n",
            "3317/3317 [==============================] - 2s 621us/step - loss: 3.9749e-06 - coeff_determination: 0.9994 - val_loss: 3.3040e-06 - val_coeff_determination: 0.9995\n",
            "Epoch 77/200\n",
            "3317/3317 [==============================] - 2s 626us/step - loss: 3.6097e-06 - coeff_determination: 0.9994 - val_loss: 3.1194e-06 - val_coeff_determination: 0.9995\n",
            "Epoch 78/200\n",
            "3317/3317 [==============================] - 2s 627us/step - loss: 3.6575e-06 - coeff_determination: 0.9994 - val_loss: 4.3063e-06 - val_coeff_determination: 0.9993\n",
            "Epoch 79/200\n",
            "3317/3317 [==============================] - 2s 630us/step - loss: 4.5799e-06 - coeff_determination: 0.9993 - val_loss: 3.8381e-06 - val_coeff_determination: 0.9994\n",
            "Epoch 80/200\n",
            "3317/3317 [==============================] - 2s 631us/step - loss: 3.7698e-06 - coeff_determination: 0.9994 - val_loss: 3.9697e-06 - val_coeff_determination: 0.9994\n",
            "Epoch 81/200\n",
            "3317/3317 [==============================] - 2s 625us/step - loss: 3.3753e-06 - coeff_determination: 0.9995 - val_loss: 6.3571e-06 - val_coeff_determination: 0.9990\n",
            "Epoch 82/200\n",
            "3317/3317 [==============================] - 2s 618us/step - loss: 3.6121e-06 - coeff_determination: 0.9994 - val_loss: 5.4436e-06 - val_coeff_determination: 0.9991\n",
            "Epoch 83/200\n",
            "3317/3317 [==============================] - 2s 617us/step - loss: 3.6355e-06 - coeff_determination: 0.9994 - val_loss: 3.6166e-06 - val_coeff_determination: 0.9994\n",
            "Epoch 84/200\n",
            "3317/3317 [==============================] - 2s 621us/step - loss: 3.7704e-06 - coeff_determination: 0.9994 - val_loss: 4.3838e-06 - val_coeff_determination: 0.9993\n",
            "Epoch 85/200\n",
            "3317/3317 [==============================] - 2s 617us/step - loss: 3.8490e-06 - coeff_determination: 0.9994 - val_loss: 5.5978e-06 - val_coeff_determination: 0.9991\n",
            "Epoch 86/200\n",
            "3317/3317 [==============================] - 2s 616us/step - loss: 4.8386e-06 - coeff_determination: 0.9992 - val_loss: 3.0888e-06 - val_coeff_determination: 0.9995\n",
            "Epoch 87/200\n",
            "3317/3317 [==============================] - 2s 616us/step - loss: 3.9048e-06 - coeff_determination: 0.9994 - val_loss: 5.1651e-06 - val_coeff_determination: 0.9992\n",
            "Epoch 88/200\n",
            "3317/3317 [==============================] - 2s 614us/step - loss: 3.4164e-06 - coeff_determination: 0.9995 - val_loss: 2.8900e-06 - val_coeff_determination: 0.9996\n",
            "Epoch 89/200\n",
            "3317/3317 [==============================] - 2s 615us/step - loss: 3.6345e-06 - coeff_determination: 0.9994 - val_loss: 2.6998e-06 - val_coeff_determination: 0.9996\n",
            "Epoch 90/200\n",
            "3317/3317 [==============================] - 2s 617us/step - loss: 3.1405e-06 - coeff_determination: 0.9995 - val_loss: 3.4201e-06 - val_coeff_determination: 0.9995\n",
            "Epoch 91/200\n",
            "3317/3317 [==============================] - 2s 615us/step - loss: 3.2581e-06 - coeff_determination: 0.9995 - val_loss: 2.5742e-06 - val_coeff_determination: 0.9996\n",
            "Epoch 92/200\n",
            "3317/3317 [==============================] - 2s 614us/step - loss: 3.1740e-06 - coeff_determination: 0.9995 - val_loss: 3.9735e-06 - val_coeff_determination: 0.9994\n",
            "Epoch 93/200\n",
            "3317/3317 [==============================] - 2s 622us/step - loss: 3.7936e-06 - coeff_determination: 0.9994 - val_loss: 8.3944e-06 - val_coeff_determination: 0.9987\n",
            "Epoch 94/200\n",
            "3317/3317 [==============================] - 2s 617us/step - loss: 3.6461e-06 - coeff_determination: 0.9994 - val_loss: 2.8978e-06 - val_coeff_determination: 0.9996\n",
            "Epoch 95/200\n",
            "3317/3317 [==============================] - 2s 613us/step - loss: 3.6575e-06 - coeff_determination: 0.9994 - val_loss: 6.1129e-06 - val_coeff_determination: 0.9990\n",
            "Epoch 96/200\n",
            "3317/3317 [==============================] - 2s 616us/step - loss: 3.2595e-06 - coeff_determination: 0.9995 - val_loss: 2.5950e-06 - val_coeff_determination: 0.9996\n",
            "Epoch 97/200\n",
            "3317/3317 [==============================] - 2s 614us/step - loss: 2.7785e-06 - coeff_determination: 0.9995 - val_loss: 3.1239e-06 - val_coeff_determination: 0.9995\n",
            "Epoch 98/200\n",
            "3317/3317 [==============================] - 2s 614us/step - loss: 3.4306e-06 - coeff_determination: 0.9994 - val_loss: 3.1548e-06 - val_coeff_determination: 0.9995\n",
            "Epoch 99/200\n",
            "3317/3317 [==============================] - 2s 622us/step - loss: 2.9321e-06 - coeff_determination: 0.9995 - val_loss: 5.5752e-06 - val_coeff_determination: 0.9991\n",
            "Epoch 100/200\n",
            "3317/3317 [==============================] - 2s 618us/step - loss: 3.7547e-06 - coeff_determination: 0.9994 - val_loss: 2.4747e-06 - val_coeff_determination: 0.9996\n",
            "Epoch 101/200\n",
            "3317/3317 [==============================] - 2s 619us/step - loss: 2.6713e-06 - coeff_determination: 0.9996 - val_loss: 3.0402e-06 - val_coeff_determination: 0.9995\n",
            "Epoch 102/200\n",
            "3317/3317 [==============================] - 2s 619us/step - loss: 3.1575e-06 - coeff_determination: 0.9995 - val_loss: 4.3463e-06 - val_coeff_determination: 0.9993\n",
            "Epoch 103/200\n",
            "3317/3317 [==============================] - 2s 616us/step - loss: 3.0412e-06 - coeff_determination: 0.9995 - val_loss: 3.6586e-06 - val_coeff_determination: 0.9994\n",
            "Epoch 104/200\n",
            "3317/3317 [==============================] - 2s 615us/step - loss: 2.7239e-06 - coeff_determination: 0.9996 - val_loss: 3.2561e-06 - val_coeff_determination: 0.9995\n",
            "Epoch 105/200\n",
            "3317/3317 [==============================] - 2s 614us/step - loss: 2.9754e-06 - coeff_determination: 0.9995 - val_loss: 2.4245e-06 - val_coeff_determination: 0.9996\n",
            "Epoch 106/200\n",
            "3317/3317 [==============================] - 2s 619us/step - loss: 3.0456e-06 - coeff_determination: 0.9995 - val_loss: 2.6269e-06 - val_coeff_determination: 0.9996\n",
            "Epoch 107/200\n",
            "3317/3317 [==============================] - 2s 616us/step - loss: 2.7254e-06 - coeff_determination: 0.9996 - val_loss: 3.2774e-06 - val_coeff_determination: 0.9995\n",
            "Epoch 108/200\n",
            "3317/3317 [==============================] - 2s 617us/step - loss: 2.8188e-06 - coeff_determination: 0.9995 - val_loss: 2.6758e-06 - val_coeff_determination: 0.9996\n",
            "Epoch 109/200\n",
            "3317/3317 [==============================] - 2s 620us/step - loss: 3.4873e-06 - coeff_determination: 0.9994 - val_loss: 4.7078e-06 - val_coeff_determination: 0.9993\n",
            "Epoch 110/200\n",
            "3317/3317 [==============================] - 2s 613us/step - loss: 4.1047e-06 - coeff_determination: 0.9993 - val_loss: 2.5119e-06 - val_coeff_determination: 0.9996\n",
            "Epoch 111/200\n",
            "3317/3317 [==============================] - 2s 613us/step - loss: 2.7011e-06 - coeff_determination: 0.9996 - val_loss: 4.7658e-06 - val_coeff_determination: 0.9992\n",
            "Epoch 112/200\n",
            "3317/3317 [==============================] - 2s 612us/step - loss: 3.2250e-06 - coeff_determination: 0.9995 - val_loss: 2.5099e-06 - val_coeff_determination: 0.9996\n",
            "Epoch 113/200\n",
            "3317/3317 [==============================] - 2s 615us/step - loss: 2.6485e-06 - coeff_determination: 0.9996 - val_loss: 4.6323e-06 - val_coeff_determination: 0.9993\n",
            "Epoch 114/200\n",
            "3317/3317 [==============================] - 2s 616us/step - loss: 2.9923e-06 - coeff_determination: 0.9995 - val_loss: 3.0927e-06 - val_coeff_determination: 0.9995\n",
            "Epoch 115/200\n",
            "3317/3317 [==============================] - 2s 615us/step - loss: 2.4817e-06 - coeff_determination: 0.9996 - val_loss: 4.1500e-06 - val_coeff_determination: 0.9993\n",
            "Epoch 116/200\n",
            "3317/3317 [==============================] - 2s 612us/step - loss: 2.9456e-06 - coeff_determination: 0.9995 - val_loss: 2.7057e-06 - val_coeff_determination: 0.9996\n",
            "Epoch 117/200\n",
            "3317/3317 [==============================] - 2s 614us/step - loss: 2.7955e-06 - coeff_determination: 0.9995 - val_loss: 5.4145e-06 - val_coeff_determination: 0.9991\n",
            "Epoch 118/200\n",
            "3317/3317 [==============================] - 2s 611us/step - loss: 2.9394e-06 - coeff_determination: 0.9995 - val_loss: 2.5430e-06 - val_coeff_determination: 0.9996\n",
            "Epoch 119/200\n",
            "3317/3317 [==============================] - 2s 611us/step - loss: 3.8131e-06 - coeff_determination: 0.9994 - val_loss: 4.1355e-06 - val_coeff_determination: 0.9994\n",
            "Epoch 120/200\n",
            "3317/3317 [==============================] - 2s 621us/step - loss: 2.7762e-06 - coeff_determination: 0.9995 - val_loss: 1.8979e-06 - val_coeff_determination: 0.9997\n",
            "Epoch 121/200\n",
            "3317/3317 [==============================] - 2s 614us/step - loss: 2.6211e-06 - coeff_determination: 0.9996 - val_loss: 1.8917e-06 - val_coeff_determination: 0.9997\n",
            "Epoch 122/200\n",
            "3317/3317 [==============================] - 2s 614us/step - loss: 2.4047e-06 - coeff_determination: 0.9996 - val_loss: 3.0379e-06 - val_coeff_determination: 0.9995\n",
            "Epoch 123/200\n",
            "3317/3317 [==============================] - 2s 612us/step - loss: 2.3211e-06 - coeff_determination: 0.9996 - val_loss: 3.3625e-06 - val_coeff_determination: 0.9995\n",
            "Epoch 124/200\n",
            "3317/3317 [==============================] - 2s 617us/step - loss: 2.1698e-06 - coeff_determination: 0.9997 - val_loss: 1.9244e-06 - val_coeff_determination: 0.9997\n",
            "Epoch 125/200\n",
            "3317/3317 [==============================] - 2s 616us/step - loss: 2.2502e-06 - coeff_determination: 0.9996 - val_loss: 3.5454e-06 - val_coeff_determination: 0.9995\n",
            "Epoch 126/200\n",
            "3317/3317 [==============================] - 2s 615us/step - loss: 2.7437e-06 - coeff_determination: 0.9996 - val_loss: 2.8079e-06 - val_coeff_determination: 0.9996\n",
            "Epoch 127/200\n",
            "3317/3317 [==============================] - 2s 614us/step - loss: 2.6115e-06 - coeff_determination: 0.9996 - val_loss: 1.9597e-06 - val_coeff_determination: 0.9997\n",
            "Epoch 128/200\n",
            "3317/3317 [==============================] - 2s 615us/step - loss: 2.9881e-06 - coeff_determination: 0.9995 - val_loss: 2.5322e-06 - val_coeff_determination: 0.9996\n",
            "Epoch 129/200\n",
            "3317/3317 [==============================] - 2s 619us/step - loss: 3.0897e-06 - coeff_determination: 0.9995 - val_loss: 2.3339e-06 - val_coeff_determination: 0.9996\n",
            "Epoch 130/200\n",
            "3317/3317 [==============================] - 2s 615us/step - loss: 2.7278e-06 - coeff_determination: 0.9996 - val_loss: 2.6462e-06 - val_coeff_determination: 0.9996\n",
            "Epoch 131/200\n",
            "3317/3317 [==============================] - 2s 614us/step - loss: 3.1435e-06 - coeff_determination: 0.9995 - val_loss: 2.3899e-06 - val_coeff_determination: 0.9996\n",
            "Epoch 132/200\n",
            "3317/3317 [==============================] - 2s 615us/step - loss: 2.4325e-06 - coeff_determination: 0.9996 - val_loss: 1.7810e-06 - val_coeff_determination: 0.9997\n",
            "Epoch 133/200\n",
            "3317/3317 [==============================] - 2s 620us/step - loss: 2.4964e-06 - coeff_determination: 0.9996 - val_loss: 3.4034e-06 - val_coeff_determination: 0.9995\n",
            "Epoch 134/200\n",
            "3317/3317 [==============================] - 2s 615us/step - loss: 2.6138e-06 - coeff_determination: 0.9996 - val_loss: 2.3418e-06 - val_coeff_determination: 0.9996\n",
            "Epoch 135/200\n",
            "3317/3317 [==============================] - 2s 618us/step - loss: 2.4383e-06 - coeff_determination: 0.9996 - val_loss: 1.8401e-06 - val_coeff_determination: 0.9997\n",
            "Epoch 136/200\n",
            "3317/3317 [==============================] - 2s 615us/step - loss: 2.2827e-06 - coeff_determination: 0.9996 - val_loss: 2.5745e-06 - val_coeff_determination: 0.9996\n",
            "Epoch 137/200\n",
            "3317/3317 [==============================] - 2s 612us/step - loss: 2.2408e-06 - coeff_determination: 0.9996 - val_loss: 3.2608e-06 - val_coeff_determination: 0.9995\n",
            "Epoch 138/200\n",
            "3317/3317 [==============================] - 2s 621us/step - loss: 2.5768e-06 - coeff_determination: 0.9996 - val_loss: 1.9107e-06 - val_coeff_determination: 0.9997\n",
            "Epoch 139/200\n",
            "3317/3317 [==============================] - 2s 619us/step - loss: 2.1982e-06 - coeff_determination: 0.9996 - val_loss: 2.8888e-06 - val_coeff_determination: 0.9995\n",
            "Epoch 140/200\n",
            "3317/3317 [==============================] - 2s 615us/step - loss: 2.2493e-06 - coeff_determination: 0.9996 - val_loss: 2.8936e-06 - val_coeff_determination: 0.9996\n",
            "Epoch 141/200\n",
            "3317/3317 [==============================] - 2s 616us/step - loss: 2.2203e-06 - coeff_determination: 0.9996 - val_loss: 2.7464e-06 - val_coeff_determination: 0.9996\n",
            "Epoch 142/200\n",
            "3317/3317 [==============================] - 2s 615us/step - loss: 2.4032e-06 - coeff_determination: 0.9996 - val_loss: 2.4987e-06 - val_coeff_determination: 0.9996\n",
            "Epoch 143/200\n",
            "3317/3317 [==============================] - 2s 614us/step - loss: 2.8821e-06 - coeff_determination: 0.9995 - val_loss: 1.6260e-06 - val_coeff_determination: 0.9997\n",
            "Epoch 144/200\n",
            "3317/3317 [==============================] - 2s 616us/step - loss: 2.4740e-06 - coeff_determination: 0.9996 - val_loss: 2.4632e-06 - val_coeff_determination: 0.9996\n",
            "Epoch 145/200\n",
            "3317/3317 [==============================] - 2s 611us/step - loss: 2.7214e-06 - coeff_determination: 0.9996 - val_loss: 2.4561e-06 - val_coeff_determination: 0.9996\n",
            "Epoch 146/200\n",
            "3317/3317 [==============================] - 2s 615us/step - loss: 2.0841e-06 - coeff_determination: 0.9997 - val_loss: 1.8196e-06 - val_coeff_determination: 0.9997\n",
            "Epoch 147/200\n",
            "3317/3317 [==============================] - 2s 611us/step - loss: 2.0903e-06 - coeff_determination: 0.9997 - val_loss: 1.6816e-06 - val_coeff_determination: 0.9997\n",
            "Epoch 148/200\n",
            "3317/3317 [==============================] - 2s 609us/step - loss: 2.2872e-06 - coeff_determination: 0.9996 - val_loss: 1.5545e-06 - val_coeff_determination: 0.9998\n",
            "Epoch 149/200\n",
            "3317/3317 [==============================] - 2s 611us/step - loss: 2.1987e-06 - coeff_determination: 0.9996 - val_loss: 2.2624e-06 - val_coeff_determination: 0.9996\n",
            "Epoch 150/200\n",
            "3317/3317 [==============================] - 2s 615us/step - loss: 2.3346e-06 - coeff_determination: 0.9996 - val_loss: 2.0899e-06 - val_coeff_determination: 0.9997\n",
            "Epoch 151/200\n",
            "3317/3317 [==============================] - 2s 611us/step - loss: 2.2934e-06 - coeff_determination: 0.9996 - val_loss: 1.7663e-06 - val_coeff_determination: 0.9997\n",
            "Epoch 152/200\n",
            "3317/3317 [==============================] - 2s 611us/step - loss: 2.2729e-06 - coeff_determination: 0.9996 - val_loss: 2.5498e-06 - val_coeff_determination: 0.9996\n",
            "Epoch 153/200\n",
            "3317/3317 [==============================] - 2s 615us/step - loss: 3.1192e-06 - coeff_determination: 0.9995 - val_loss: 1.5377e-06 - val_coeff_determination: 0.9998\n",
            "Epoch 154/200\n",
            "3317/3317 [==============================] - 2s 618us/step - loss: 2.3559e-06 - coeff_determination: 0.9996 - val_loss: 3.0168e-06 - val_coeff_determination: 0.9995\n",
            "Epoch 155/200\n",
            "3317/3317 [==============================] - 2s 614us/step - loss: 2.1024e-06 - coeff_determination: 0.9997 - val_loss: 2.0750e-06 - val_coeff_determination: 0.9997\n",
            "Epoch 156/200\n",
            "3317/3317 [==============================] - 2s 609us/step - loss: 2.3082e-06 - coeff_determination: 0.9996 - val_loss: 2.9963e-06 - val_coeff_determination: 0.9995\n",
            "Epoch 157/200\n",
            "3317/3317 [==============================] - 2s 612us/step - loss: 2.6760e-06 - coeff_determination: 0.9996 - val_loss: 2.2788e-06 - val_coeff_determination: 0.9996\n",
            "Epoch 158/200\n",
            "3317/3317 [==============================] - 2s 610us/step - loss: 2.1515e-06 - coeff_determination: 0.9997 - val_loss: 1.6950e-06 - val_coeff_determination: 0.9997\n",
            "Epoch 159/200\n",
            "3317/3317 [==============================] - 2s 615us/step - loss: 2.6718e-06 - coeff_determination: 0.9996 - val_loss: 3.8791e-06 - val_coeff_determination: 0.9994\n",
            "Epoch 160/200\n",
            "3317/3317 [==============================] - 2s 613us/step - loss: 2.3084e-06 - coeff_determination: 0.9996 - val_loss: 2.9073e-06 - val_coeff_determination: 0.9995\n",
            "Epoch 161/200\n",
            "3317/3317 [==============================] - 2s 612us/step - loss: 1.7765e-06 - coeff_determination: 0.9997 - val_loss: 2.0188e-06 - val_coeff_determination: 0.9997\n",
            "Epoch 162/200\n",
            "3317/3317 [==============================] - 2s 612us/step - loss: 2.1689e-06 - coeff_determination: 0.9996 - val_loss: 2.4349e-06 - val_coeff_determination: 0.9996\n",
            "Epoch 163/200\n",
            "3317/3317 [==============================] - 2s 613us/step - loss: 2.1231e-06 - coeff_determination: 0.9997 - val_loss: 1.8494e-06 - val_coeff_determination: 0.9997\n",
            "Epoch 164/200\n",
            "3317/3317 [==============================] - 2s 612us/step - loss: 1.6482e-06 - coeff_determination: 0.9997 - val_loss: 1.3998e-06 - val_coeff_determination: 0.9998\n",
            "Epoch 165/200\n",
            "3317/3317 [==============================] - 2s 616us/step - loss: 1.8222e-06 - coeff_determination: 0.9997 - val_loss: 3.5401e-06 - val_coeff_determination: 0.9995\n",
            "Epoch 166/200\n",
            "3317/3317 [==============================] - 2s 608us/step - loss: 1.9879e-06 - coeff_determination: 0.9997 - val_loss: 1.5240e-06 - val_coeff_determination: 0.9998\n",
            "Epoch 167/200\n",
            "3317/3317 [==============================] - 2s 611us/step - loss: 2.4766e-06 - coeff_determination: 0.9996 - val_loss: 1.6363e-06 - val_coeff_determination: 0.9997\n",
            "Epoch 168/200\n",
            "3317/3317 [==============================] - 2s 610us/step - loss: 2.2447e-06 - coeff_determination: 0.9996 - val_loss: 2.4403e-06 - val_coeff_determination: 0.9996\n",
            "Epoch 169/200\n",
            "3317/3317 [==============================] - 2s 614us/step - loss: 3.5135e-06 - coeff_determination: 0.9994 - val_loss: 4.9849e-06 - val_coeff_determination: 0.9992\n",
            "Epoch 170/200\n",
            "3317/3317 [==============================] - 2s 610us/step - loss: 2.5552e-06 - coeff_determination: 0.9996 - val_loss: 1.9893e-06 - val_coeff_determination: 0.9997\n",
            "Epoch 171/200\n",
            "3317/3317 [==============================] - 2s 610us/step - loss: 1.6127e-06 - coeff_determination: 0.9997 - val_loss: 1.2297e-06 - val_coeff_determination: 0.9998\n",
            "Epoch 172/200\n",
            "3317/3317 [==============================] - 2s 612us/step - loss: 1.7227e-06 - coeff_determination: 0.9997 - val_loss: 2.9515e-06 - val_coeff_determination: 0.9995\n",
            "Epoch 173/200\n",
            "3317/3317 [==============================] - 2s 613us/step - loss: 1.9050e-06 - coeff_determination: 0.9997 - val_loss: 1.3764e-06 - val_coeff_determination: 0.9998\n",
            "Epoch 174/200\n",
            "3317/3317 [==============================] - 2s 613us/step - loss: 1.8739e-06 - coeff_determination: 0.9997 - val_loss: 2.5777e-06 - val_coeff_determination: 0.9996\n",
            "Epoch 175/200\n",
            "3317/3317 [==============================] - 2s 614us/step - loss: 1.8985e-06 - coeff_determination: 0.9997 - val_loss: 1.9722e-06 - val_coeff_determination: 0.9997\n",
            "Epoch 176/200\n",
            "3317/3317 [==============================] - 2s 612us/step - loss: 2.2165e-06 - coeff_determination: 0.9996 - val_loss: 1.8809e-06 - val_coeff_determination: 0.9997\n",
            "Epoch 177/200\n",
            "3317/3317 [==============================] - 2s 617us/step - loss: 2.1236e-06 - coeff_determination: 0.9997 - val_loss: 2.5843e-06 - val_coeff_determination: 0.9996\n",
            "Epoch 178/200\n",
            "3317/3317 [==============================] - 2s 618us/step - loss: 2.0375e-06 - coeff_determination: 0.9997 - val_loss: 1.3020e-06 - val_coeff_determination: 0.9998\n",
            "Epoch 179/200\n",
            "3317/3317 [==============================] - 2s 618us/step - loss: 2.3910e-06 - coeff_determination: 0.9996 - val_loss: 1.6368e-06 - val_coeff_determination: 0.9998\n",
            "Epoch 180/200\n",
            "3317/3317 [==============================] - 2s 617us/step - loss: 1.6213e-06 - coeff_determination: 0.9997 - val_loss: 1.8562e-06 - val_coeff_determination: 0.9997\n",
            "Epoch 181/200\n",
            "3317/3317 [==============================] - 2s 612us/step - loss: 1.8235e-06 - coeff_determination: 0.9997 - val_loss: 2.4148e-06 - val_coeff_determination: 0.9996\n",
            "Epoch 182/200\n",
            "3317/3317 [==============================] - 2s 613us/step - loss: 1.6486e-06 - coeff_determination: 0.9997 - val_loss: 1.4120e-06 - val_coeff_determination: 0.9998\n",
            "Epoch 183/200\n",
            "3317/3317 [==============================] - 2s 610us/step - loss: 1.8383e-06 - coeff_determination: 0.9997 - val_loss: 2.0190e-06 - val_coeff_determination: 0.9997\n",
            "Epoch 184/200\n",
            "3317/3317 [==============================] - 2s 615us/step - loss: 1.7064e-06 - coeff_determination: 0.9997 - val_loss: 2.1843e-06 - val_coeff_determination: 0.9997\n",
            "Epoch 185/200\n",
            "3317/3317 [==============================] - 2s 613us/step - loss: 1.8617e-06 - coeff_determination: 0.9997 - val_loss: 3.4422e-06 - val_coeff_determination: 0.9994\n",
            "Epoch 186/200\n",
            "3317/3317 [==============================] - 2s 615us/step - loss: 2.3750e-06 - coeff_determination: 0.9996 - val_loss: 1.6034e-06 - val_coeff_determination: 0.9998\n",
            "Epoch 187/200\n",
            "3317/3317 [==============================] - 2s 613us/step - loss: 1.6765e-06 - coeff_determination: 0.9997 - val_loss: 1.4194e-06 - val_coeff_determination: 0.9998\n",
            "Epoch 188/200\n",
            "3317/3317 [==============================] - 2s 614us/step - loss: 1.4844e-06 - coeff_determination: 0.9998 - val_loss: 3.9947e-06 - val_coeff_determination: 0.9994\n",
            "Epoch 189/200\n",
            "3317/3317 [==============================] - 2s 614us/step - loss: 2.0197e-06 - coeff_determination: 0.9997 - val_loss: 1.4547e-06 - val_coeff_determination: 0.9998\n",
            "Epoch 190/200\n",
            "3317/3317 [==============================] - 2s 614us/step - loss: 1.6486e-06 - coeff_determination: 0.9997 - val_loss: 1.9862e-06 - val_coeff_determination: 0.9997\n",
            "Epoch 191/200\n",
            "3317/3317 [==============================] - 2s 612us/step - loss: 1.9487e-06 - coeff_determination: 0.9997 - val_loss: 1.4317e-06 - val_coeff_determination: 0.9998\n",
            "Epoch 192/200\n",
            "3317/3317 [==============================] - 2s 610us/step - loss: 2.5643e-06 - coeff_determination: 0.9996 - val_loss: 1.2262e-06 - val_coeff_determination: 0.9998\n",
            "Epoch 193/200\n",
            "3317/3317 [==============================] - 2s 611us/step - loss: 1.8342e-06 - coeff_determination: 0.9997 - val_loss: 1.8326e-06 - val_coeff_determination: 0.9997\n",
            "Epoch 194/200\n",
            "3317/3317 [==============================] - 2s 617us/step - loss: 1.6720e-06 - coeff_determination: 0.9997 - val_loss: 1.9987e-06 - val_coeff_determination: 0.9997\n",
            "Epoch 195/200\n",
            "3317/3317 [==============================] - 2s 615us/step - loss: 2.0402e-06 - coeff_determination: 0.9997 - val_loss: 1.2161e-06 - val_coeff_determination: 0.9998\n",
            "Epoch 196/200\n",
            "3317/3317 [==============================] - 2s 611us/step - loss: 1.4467e-06 - coeff_determination: 0.9998 - val_loss: 1.2934e-06 - val_coeff_determination: 0.9998\n",
            "Epoch 197/200\n",
            "3317/3317 [==============================] - 2s 616us/step - loss: 1.8989e-06 - coeff_determination: 0.9997 - val_loss: 2.4600e-06 - val_coeff_determination: 0.9996\n",
            "Epoch 198/200\n",
            "3317/3317 [==============================] - 2s 612us/step - loss: 1.8283e-06 - coeff_determination: 0.9997 - val_loss: 2.6979e-06 - val_coeff_determination: 0.9996\n",
            "Epoch 199/200\n",
            "3317/3317 [==============================] - 2s 619us/step - loss: 1.9981e-06 - coeff_determination: 0.9997 - val_loss: 1.5109e-06 - val_coeff_determination: 0.9998\n",
            "Epoch 200/200\n",
            "3317/3317 [==============================] - 2s 619us/step - loss: 1.8709e-06 - coeff_determination: 0.9997 - val_loss: 1.7503e-06 - val_coeff_determination: 0.9997\n"
          ],
          "name": "stdout"
        }
      ]
    },
    {
      "cell_type": "code",
      "metadata": {
        "id": "1da23Wuw91YD",
        "colab_type": "code",
        "colab": {}
      },
      "source": [
        "plt.plot(history.history['coeff_determination'])\n",
        "plt.plot(history.history['val_coeff_determination'])\n",
        "plt.title('Model accuracy')\n",
        "plt.ylabel('Accuracy')\n",
        "plt.xlabel('Epoch')\n",
        "plt.legend(['Train', 'Test'], loc='upper left')\n"
      ],
      "execution_count": 0,
      "outputs": []
    },
    {
      "cell_type": "code",
      "metadata": {
        "id": "x9KPzaib9Dlt",
        "colab_type": "code",
        "colab": {}
      },
      "source": [
        "# Plot training & validation loss values\n",
        "plt.plot(history.history['loss'])\n",
        "plt.plot(history.history['val_loss'])\n",
        "plt.title('Model loss')\n",
        "plt.ylabel('Loss')\n",
        "plt.xlabel('Epoch')\n",
        "plt.legend(['Train', 'Test'], loc='upper right')\n",
        "plt.xlim(-10,200)\n",
        "plt.savefig(\"loss.svg\")"
      ],
      "execution_count": 0,
      "outputs": []
    },
    {
      "cell_type": "code",
      "metadata": {
        "id": "5kls3u5lh9PI",
        "colab_type": "code",
        "colab": {}
      },
      "source": [
        "# for loading trained weights\n",
        "\n",
        "model = models.Sequential()\n",
        "model.add(layers.Conv2D(32, (3, 3), activation='relu', input_shape=(128,128, 1)))\n",
        "model.add(layers.MaxPooling2D((2, 2)))\n",
        "model.add(layers.Conv2D(64, (3, 3), activation='relu'))\n",
        "model.add(layers.MaxPooling2D((2, 2)))\n",
        "model.add(layers.Conv2D(64, (3, 3), activation='relu'))\n",
        "\n",
        "model.add(layers.Flatten())\n",
        "model.add(layers.Dense(64, activation='relu'))\n",
        "model.add(layers.Dense(2, activation='linear'))\n",
        "\n",
        "model.load_weights(\"right_128_99percent.h5\")"
      ],
      "execution_count": 0,
      "outputs": []
    },
    {
      "cell_type": "code",
      "metadata": {
        "id": "UXmBzA-ocOTZ",
        "colab_type": "code",
        "outputId": "5dd9d7f8-5894-4af2-b8b4-54effa458ffc",
        "colab": {
          "base_uri": "https://localhost:8080/",
          "height": 455
        }
      },
      "source": [
        "model.summary()"
      ],
      "execution_count": 0,
      "outputs": [
        {
          "output_type": "stream",
          "text": [
            "Model: \"sequential_1\"\n",
            "_________________________________________________________________\n",
            "Layer (type)                 Output Shape              Param #   \n",
            "=================================================================\n",
            "conv2d_1 (Conv2D)            (None, 126, 126, 32)      320       \n",
            "_________________________________________________________________\n",
            "max_pooling2d_1 (MaxPooling2 (None, 63, 63, 32)        0         \n",
            "_________________________________________________________________\n",
            "conv2d_2 (Conv2D)            (None, 61, 61, 64)        18496     \n",
            "_________________________________________________________________\n",
            "max_pooling2d_2 (MaxPooling2 (None, 30, 30, 64)        0         \n",
            "_________________________________________________________________\n",
            "conv2d_3 (Conv2D)            (None, 28, 28, 64)        36928     \n",
            "_________________________________________________________________\n",
            "flatten_1 (Flatten)          (None, 50176)             0         \n",
            "_________________________________________________________________\n",
            "dense_1 (Dense)              (None, 64)                3211328   \n",
            "_________________________________________________________________\n",
            "dense_2 (Dense)              (None, 2)                 130       \n",
            "=================================================================\n",
            "Total params: 3,267,202\n",
            "Trainable params: 3,267,202\n",
            "Non-trainable params: 0\n",
            "_________________________________________________________________\n"
          ],
          "name": "stdout"
        }
      ]
    },
    {
      "cell_type": "code",
      "metadata": {
        "id": "IBJK9lM9GC0l",
        "colab_type": "code",
        "outputId": "43b41ec1-9271-4217-fd97-097bb5541ac1",
        "colab": {
          "base_uri": "https://localhost:8080/",
          "height": 206
        }
      },
      "source": [
        "y_pred = model.predict(X_test)\n",
        "\n",
        "#y_pred = np.round(y_pred, 3)\n",
        "\n",
        "y_pred = pd.DataFrame(y_pred)\n",
        "\n",
        "y_pred.columns = ['Homogeneous predicted', 'Inhomogeneous predicted']\n",
        "\n",
        "#y_test = np.round(y_test, 3)\n",
        "\n",
        "y_test = pd.DataFrame(y_test)\n",
        "\n",
        "y_test.columns = ['Homogeneous actual', 'Inhomogeneous actual']\n",
        "\n",
        "y_test.index = y_pred.index\n",
        "\n",
        "comp = y_test.join(y_pred)\n",
        "\n",
        "comp.head()"
      ],
      "execution_count": 0,
      "outputs": [
        {
          "output_type": "execute_result",
          "data": {
            "text/html": [
              "<div>\n",
              "<style scoped>\n",
              "    .dataframe tbody tr th:only-of-type {\n",
              "        vertical-align: middle;\n",
              "    }\n",
              "\n",
              "    .dataframe tbody tr th {\n",
              "        vertical-align: top;\n",
              "    }\n",
              "\n",
              "    .dataframe thead th {\n",
              "        text-align: right;\n",
              "    }\n",
              "</style>\n",
              "<table border=\"1\" class=\"dataframe\">\n",
              "  <thead>\n",
              "    <tr style=\"text-align: right;\">\n",
              "      <th></th>\n",
              "      <th>Homogeneous actual</th>\n",
              "      <th>Inhomogeneous actual</th>\n",
              "      <th>Homogeneous predicted</th>\n",
              "      <th>Inhomogeneous predicted</th>\n",
              "    </tr>\n",
              "  </thead>\n",
              "  <tbody>\n",
              "    <tr>\n",
              "      <th>0</th>\n",
              "      <td>0.095921</td>\n",
              "      <td>0.060317</td>\n",
              "      <td>0.096553</td>\n",
              "      <td>0.060865</td>\n",
              "    </tr>\n",
              "    <tr>\n",
              "      <th>1</th>\n",
              "      <td>0.095921</td>\n",
              "      <td>0.184130</td>\n",
              "      <td>0.096270</td>\n",
              "      <td>0.184925</td>\n",
              "    </tr>\n",
              "    <tr>\n",
              "      <th>2</th>\n",
              "      <td>0.285760</td>\n",
              "      <td>0.104760</td>\n",
              "      <td>0.286543</td>\n",
              "      <td>0.104955</td>\n",
              "    </tr>\n",
              "    <tr>\n",
              "      <th>3</th>\n",
              "      <td>0.152870</td>\n",
              "      <td>0.111110</td>\n",
              "      <td>0.153122</td>\n",
              "      <td>0.111923</td>\n",
              "    </tr>\n",
              "    <tr>\n",
              "      <th>4</th>\n",
              "      <td>0.110160</td>\n",
              "      <td>0.082540</td>\n",
              "      <td>0.110719</td>\n",
              "      <td>0.083288</td>\n",
              "    </tr>\n",
              "  </tbody>\n",
              "</table>\n",
              "</div>"
            ],
            "text/plain": [
              "   Homogeneous actual  ...  Inhomogeneous predicted\n",
              "0            0.095921  ...                 0.060865\n",
              "1            0.095921  ...                 0.184925\n",
              "2            0.285760  ...                 0.104955\n",
              "3            0.152870  ...                 0.111923\n",
              "4            0.110160  ...                 0.083288\n",
              "\n",
              "[5 rows x 4 columns]"
            ]
          },
          "metadata": {
            "tags": []
          },
          "execution_count": 14
        }
      ]
    },
    {
      "cell_type": "code",
      "metadata": {
        "colab_type": "code",
        "id": "A5xz_FvcGwaV",
        "colab": {}
      },
      "source": [
        "comp['Homo_error'] = (comp['Homogeneous predicted'] - comp['Homogeneous actual'])/comp['Homogeneous actual']\n",
        "\n",
        "comp['inHomo_error'] = (comp['Inhomogeneous predicted'] - comp['Inhomogeneous actual'])/comp['Inhomogeneous actual']\n",
        "\n",
        "comp['ratio'] = comp['Inhomogeneous actual']/comp['Homogeneous actual']\n"
      ],
      "execution_count": 0,
      "outputs": []
    },
    {
      "cell_type": "code",
      "metadata": {
        "id": "647KwCJ0HTEf",
        "colab_type": "code",
        "outputId": "9eec9b3d-bd40-4c72-8dad-49e8aca42340",
        "colab": {
          "base_uri": "https://localhost:8080/",
          "height": 206
        }
      },
      "source": [
        "comp.head()"
      ],
      "execution_count": 0,
      "outputs": [
        {
          "output_type": "execute_result",
          "data": {
            "text/html": [
              "<div>\n",
              "<style scoped>\n",
              "    .dataframe tbody tr th:only-of-type {\n",
              "        vertical-align: middle;\n",
              "    }\n",
              "\n",
              "    .dataframe tbody tr th {\n",
              "        vertical-align: top;\n",
              "    }\n",
              "\n",
              "    .dataframe thead th {\n",
              "        text-align: right;\n",
              "    }\n",
              "</style>\n",
              "<table border=\"1\" class=\"dataframe\">\n",
              "  <thead>\n",
              "    <tr style=\"text-align: right;\">\n",
              "      <th></th>\n",
              "      <th>Homogeneous actual</th>\n",
              "      <th>Inhomogeneous actual</th>\n",
              "      <th>Homogeneous predicted</th>\n",
              "      <th>Inhomogeneous predicted</th>\n",
              "      <th>Homo_error</th>\n",
              "      <th>inHomo_error</th>\n",
              "      <th>ratio</th>\n",
              "    </tr>\n",
              "  </thead>\n",
              "  <tbody>\n",
              "    <tr>\n",
              "      <th>0</th>\n",
              "      <td>0.095921</td>\n",
              "      <td>0.060317</td>\n",
              "      <td>0.096553</td>\n",
              "      <td>0.060865</td>\n",
              "      <td>0.006587</td>\n",
              "      <td>0.009078</td>\n",
              "      <td>1.590281</td>\n",
              "    </tr>\n",
              "    <tr>\n",
              "      <th>1</th>\n",
              "      <td>0.095921</td>\n",
              "      <td>0.184130</td>\n",
              "      <td>0.096270</td>\n",
              "      <td>0.184925</td>\n",
              "      <td>0.003642</td>\n",
              "      <td>0.004319</td>\n",
              "      <td>0.520942</td>\n",
              "    </tr>\n",
              "    <tr>\n",
              "      <th>2</th>\n",
              "      <td>0.285760</td>\n",
              "      <td>0.104760</td>\n",
              "      <td>0.286543</td>\n",
              "      <td>0.104955</td>\n",
              "      <td>0.002738</td>\n",
              "      <td>0.001863</td>\n",
              "      <td>2.727759</td>\n",
              "    </tr>\n",
              "    <tr>\n",
              "      <th>3</th>\n",
              "      <td>0.152870</td>\n",
              "      <td>0.111110</td>\n",
              "      <td>0.153122</td>\n",
              "      <td>0.111923</td>\n",
              "      <td>0.001651</td>\n",
              "      <td>0.007314</td>\n",
              "      <td>1.375844</td>\n",
              "    </tr>\n",
              "    <tr>\n",
              "      <th>4</th>\n",
              "      <td>0.110160</td>\n",
              "      <td>0.082540</td>\n",
              "      <td>0.110719</td>\n",
              "      <td>0.083288</td>\n",
              "      <td>0.005073</td>\n",
              "      <td>0.009063</td>\n",
              "      <td>1.334626</td>\n",
              "    </tr>\n",
              "  </tbody>\n",
              "</table>\n",
              "</div>"
            ],
            "text/plain": [
              "   Homogeneous actual  Inhomogeneous actual  ...  inHomo_error     ratio\n",
              "0            0.095921              0.060317  ...      0.009078  1.590281\n",
              "1            0.095921              0.184130  ...      0.004319  0.520942\n",
              "2            0.285760              0.104760  ...      0.001863  2.727759\n",
              "3            0.152870              0.111110  ...      0.007314  1.375844\n",
              "4            0.110160              0.082540  ...      0.009063  1.334626\n",
              "\n",
              "[5 rows x 7 columns]"
            ]
          },
          "metadata": {
            "tags": []
          },
          "execution_count": 18
        }
      ]
    },
    {
      "cell_type": "code",
      "metadata": {
        "id": "FUxwx3fpghqy",
        "colab_type": "code",
        "outputId": "8a133558-b35b-490d-9a40-00effa38d29a",
        "colab": {
          "base_uri": "https://localhost:8080/",
          "height": 35
        }
      },
      "source": [
        "max(comp2['ratio'])"
      ],
      "execution_count": 0,
      "outputs": [
        {
          "output_type": "execute_result",
          "data": {
            "text/plain": [
              "91.51074151074151"
            ]
          },
          "metadata": {
            "tags": []
          },
          "execution_count": 22
        }
      ]
    },
    {
      "cell_type": "code",
      "metadata": {
        "id": "SgiO3-1qBY00",
        "colab_type": "code",
        "colab": {}
      },
      "source": [
        "#comp.to_csv(\"pred_vs_actual_1.csv\")"
      ],
      "execution_count": 0,
      "outputs": []
    },
    {
      "cell_type": "code",
      "metadata": {
        "id": "Hf1npws7v8VC",
        "colab_type": "code",
        "colab": {}
      },
      "source": [
        "#model.save_weights(\"right_128_99percent.h5\")"
      ],
      "execution_count": 0,
      "outputs": []
    },
    {
      "cell_type": "code",
      "metadata": {
        "id": "87xCKpl9mejV",
        "colab_type": "code",
        "outputId": "c9e3113e-7160-4e4e-d26b-c7f70866013a",
        "colab": {
          "base_uri": "https://localhost:8080/",
          "height": 35
        }
      },
      "source": [
        "from sklearn.metrics import r2_score\n",
        "\n",
        "r2_score(y_test, y_pred)"
      ],
      "execution_count": 0,
      "outputs": [
        {
          "output_type": "execute_result",
          "data": {
            "text/plain": [
              "0.9995095574980697"
            ]
          },
          "metadata": {
            "tags": []
          },
          "execution_count": 37
        }
      ]
    },
    {
      "cell_type": "code",
      "metadata": {
        "id": "D5_wddl6cbtO",
        "colab_type": "code",
        "outputId": "11b2afa9-4670-42b5-fd95-a60129d5ef1f",
        "colab": {
          "base_uri": "https://localhost:8080/",
          "height": 35
        }
      },
      "source": [
        "comp1 = comp[(comp['Homogeneous actual'] > 0.032)]\n",
        "comp1 = comp1[comp1['Inhomogeneous actual'] > 0]\n",
        "comp2 = comp[comp['Homogeneous actual'] > 0.0]\n",
        "comp2 = comp2[comp2['Inhomogeneous actual'] > 0.0]\n",
        "comp.shape, comp1.shape, comp2.shape"
      ],
      "execution_count": 0,
      "outputs": [
        {
          "output_type": "execute_result",
          "data": {
            "text/plain": [
              "((410, 7), (350, 7), (405, 7))"
            ]
          },
          "metadata": {
            "tags": []
          },
          "execution_count": 16
        }
      ]
    },
    {
      "cell_type": "code",
      "metadata": {
        "id": "8l9iKMhzh7qQ",
        "colab_type": "code",
        "outputId": "2f9d9763-0a60-4b02-db5f-67b5e485a86d",
        "colab": {
          "base_uri": "https://localhost:8080/",
          "height": 318
        }
      },
      "source": [
        "comp1.describe()"
      ],
      "execution_count": 0,
      "outputs": [
        {
          "output_type": "execute_result",
          "data": {
            "text/html": [
              "<div>\n",
              "<style scoped>\n",
              "    .dataframe tbody tr th:only-of-type {\n",
              "        vertical-align: middle;\n",
              "    }\n",
              "\n",
              "    .dataframe tbody tr th {\n",
              "        vertical-align: top;\n",
              "    }\n",
              "\n",
              "    .dataframe thead th {\n",
              "        text-align: right;\n",
              "    }\n",
              "</style>\n",
              "<table border=\"1\" class=\"dataframe\">\n",
              "  <thead>\n",
              "    <tr style=\"text-align: right;\">\n",
              "      <th></th>\n",
              "      <th>Homogeneous actual</th>\n",
              "      <th>Inhomogeneous actual</th>\n",
              "      <th>Homogeneous predicted</th>\n",
              "      <th>Inhomogeneous predicted</th>\n",
              "      <th>Homo_error</th>\n",
              "      <th>inHomo_error</th>\n",
              "      <th>ratio</th>\n",
              "    </tr>\n",
              "  </thead>\n",
              "  <tbody>\n",
              "    <tr>\n",
              "      <th>count</th>\n",
              "      <td>369.000000</td>\n",
              "      <td>369.000000</td>\n",
              "      <td>369.000000</td>\n",
              "      <td>369.000000</td>\n",
              "      <td>369.000000</td>\n",
              "      <td>369.000000</td>\n",
              "      <td>369.000000</td>\n",
              "    </tr>\n",
              "    <tr>\n",
              "      <th>mean</th>\n",
              "      <td>0.158610</td>\n",
              "      <td>0.105072</td>\n",
              "      <td>0.159139</td>\n",
              "      <td>0.104988</td>\n",
              "      <td>0.007144</td>\n",
              "      <td>-0.008574</td>\n",
              "      <td>1.083178</td>\n",
              "    </tr>\n",
              "    <tr>\n",
              "      <th>std</th>\n",
              "      <td>0.083084</td>\n",
              "      <td>0.057637</td>\n",
              "      <td>0.082957</td>\n",
              "      <td>0.058555</td>\n",
              "      <td>0.011273</td>\n",
              "      <td>0.142089</td>\n",
              "      <td>1.395600</td>\n",
              "    </tr>\n",
              "    <tr>\n",
              "      <th>min</th>\n",
              "      <td>0.019984</td>\n",
              "      <td>0.003175</td>\n",
              "      <td>0.020963</td>\n",
              "      <td>0.002628</td>\n",
              "      <td>-0.001368</td>\n",
              "      <td>-0.427218</td>\n",
              "      <td>0.010928</td>\n",
              "    </tr>\n",
              "    <tr>\n",
              "      <th>25%</th>\n",
              "      <td>0.086429</td>\n",
              "      <td>0.057143</td>\n",
              "      <td>0.087198</td>\n",
              "      <td>0.054627</td>\n",
              "      <td>0.001210</td>\n",
              "      <td>0.000939</td>\n",
              "      <td>0.351931</td>\n",
              "    </tr>\n",
              "    <tr>\n",
              "      <th>50%</th>\n",
              "      <td>0.157620</td>\n",
              "      <td>0.104760</td>\n",
              "      <td>0.157707</td>\n",
              "      <td>0.105661</td>\n",
              "      <td>0.003416</td>\n",
              "      <td>0.004021</td>\n",
              "      <td>0.690570</td>\n",
              "    </tr>\n",
              "    <tr>\n",
              "      <th>75%</th>\n",
              "      <td>0.238300</td>\n",
              "      <td>0.155560</td>\n",
              "      <td>0.238372</td>\n",
              "      <td>0.156429</td>\n",
              "      <td>0.007389</td>\n",
              "      <td>0.006246</td>\n",
              "      <td>1.185525</td>\n",
              "    </tr>\n",
              "    <tr>\n",
              "      <th>max</th>\n",
              "      <td>0.300000</td>\n",
              "      <td>0.200000</td>\n",
              "      <td>0.300878</td>\n",
              "      <td>0.201342</td>\n",
              "      <td>0.070728</td>\n",
              "      <td>1.751664</td>\n",
              "      <td>9.849380</td>\n",
              "    </tr>\n",
              "  </tbody>\n",
              "</table>\n",
              "</div>"
            ],
            "text/plain": [
              "       Homogeneous actual  Inhomogeneous actual  ...  inHomo_error       ratio\n",
              "count          369.000000            369.000000  ...    369.000000  369.000000\n",
              "mean             0.158610              0.105072  ...     -0.008574    1.083178\n",
              "std              0.083084              0.057637  ...      0.142089    1.395600\n",
              "min              0.019984              0.003175  ...     -0.427218    0.010928\n",
              "25%              0.086429              0.057143  ...      0.000939    0.351931\n",
              "50%              0.157620              0.104760  ...      0.004021    0.690570\n",
              "75%              0.238300              0.155560  ...      0.006246    1.185525\n",
              "max              0.300000              0.200000  ...      1.751664    9.849380\n",
              "\n",
              "[8 rows x 7 columns]"
            ]
          },
          "metadata": {
            "tags": []
          },
          "execution_count": 19
        }
      ]
    },
    {
      "cell_type": "code",
      "metadata": {
        "id": "gZBNkyYLfFId",
        "colab_type": "code",
        "outputId": "a02802fa-6030-444c-da90-10ce0a1e6da9",
        "colab": {
          "base_uri": "https://localhost:8080/",
          "height": 318
        }
      },
      "source": [
        "comp2.describe()"
      ],
      "execution_count": 0,
      "outputs": [
        {
          "output_type": "execute_result",
          "data": {
            "text/html": [
              "<div>\n",
              "<style scoped>\n",
              "    .dataframe tbody tr th:only-of-type {\n",
              "        vertical-align: middle;\n",
              "    }\n",
              "\n",
              "    .dataframe tbody tr th {\n",
              "        vertical-align: top;\n",
              "    }\n",
              "\n",
              "    .dataframe thead th {\n",
              "        text-align: right;\n",
              "    }\n",
              "</style>\n",
              "<table border=\"1\" class=\"dataframe\">\n",
              "  <thead>\n",
              "    <tr style=\"text-align: right;\">\n",
              "      <th></th>\n",
              "      <th>Homogeneous actual</th>\n",
              "      <th>Inhomogeneous actual</th>\n",
              "      <th>Homogeneous predicted</th>\n",
              "      <th>Inhomogeneous predicted</th>\n",
              "      <th>Homo_error</th>\n",
              "      <th>inHomo_error</th>\n",
              "      <th>ratio</th>\n",
              "    </tr>\n",
              "  </thead>\n",
              "  <tbody>\n",
              "    <tr>\n",
              "      <th>count</th>\n",
              "      <td>327.000000</td>\n",
              "      <td>327.000000</td>\n",
              "      <td>327.000000</td>\n",
              "      <td>327.000000</td>\n",
              "      <td>327.000000</td>\n",
              "      <td>327.000000</td>\n",
              "      <td>327.000000</td>\n",
              "    </tr>\n",
              "    <tr>\n",
              "      <th>mean</th>\n",
              "      <td>0.174775</td>\n",
              "      <td>0.105237</td>\n",
              "      <td>0.175250</td>\n",
              "      <td>0.105110</td>\n",
              "      <td>0.003793</td>\n",
              "      <td>-0.009217</td>\n",
              "      <td>4.227594</td>\n",
              "    </tr>\n",
              "    <tr>\n",
              "      <th>std</th>\n",
              "      <td>0.074008</td>\n",
              "      <td>0.057853</td>\n",
              "      <td>0.073954</td>\n",
              "      <td>0.058872</td>\n",
              "      <td>0.003674</td>\n",
              "      <td>0.150467</td>\n",
              "      <td>10.221761</td>\n",
              "    </tr>\n",
              "    <tr>\n",
              "      <th>min</th>\n",
              "      <td>0.053206</td>\n",
              "      <td>0.003175</td>\n",
              "      <td>0.053712</td>\n",
              "      <td>0.002628</td>\n",
              "      <td>-0.001368</td>\n",
              "      <td>-0.427218</td>\n",
              "      <td>0.294037</td>\n",
              "    </tr>\n",
              "    <tr>\n",
              "      <th>25%</th>\n",
              "      <td>0.112530</td>\n",
              "      <td>0.055555</td>\n",
              "      <td>0.112827</td>\n",
              "      <td>0.054584</td>\n",
              "      <td>0.001027</td>\n",
              "      <td>0.000132</td>\n",
              "      <td>1.039865</td>\n",
              "    </tr>\n",
              "    <tr>\n",
              "      <th>50%</th>\n",
              "      <td>0.167110</td>\n",
              "      <td>0.104760</td>\n",
              "      <td>0.167654</td>\n",
              "      <td>0.105661</td>\n",
              "      <td>0.002938</td>\n",
              "      <td>0.004083</td>\n",
              "      <td>1.551531</td>\n",
              "    </tr>\n",
              "    <tr>\n",
              "      <th>75%</th>\n",
              "      <td>0.243050</td>\n",
              "      <td>0.158730</td>\n",
              "      <td>0.243678</td>\n",
              "      <td>0.159301</td>\n",
              "      <td>0.004898</td>\n",
              "      <td>0.006315</td>\n",
              "      <td>3.204512</td>\n",
              "    </tr>\n",
              "    <tr>\n",
              "      <th>max</th>\n",
              "      <td>0.300000</td>\n",
              "      <td>0.200000</td>\n",
              "      <td>0.300878</td>\n",
              "      <td>0.201342</td>\n",
              "      <td>0.019865</td>\n",
              "      <td>1.751664</td>\n",
              "      <td>91.510742</td>\n",
              "    </tr>\n",
              "  </tbody>\n",
              "</table>\n",
              "</div>"
            ],
            "text/plain": [
              "       Homogeneous actual  Inhomogeneous actual  ...  inHomo_error       ratio\n",
              "count          327.000000            327.000000  ...    327.000000  327.000000\n",
              "mean             0.174775              0.105237  ...     -0.009217    4.227594\n",
              "std              0.074008              0.057853  ...      0.150467   10.221761\n",
              "min              0.053206              0.003175  ...     -0.427218    0.294037\n",
              "25%              0.112530              0.055555  ...      0.000132    1.039865\n",
              "50%              0.167110              0.104760  ...      0.004083    1.551531\n",
              "75%              0.243050              0.158730  ...      0.006315    3.204512\n",
              "max              0.300000              0.200000  ...      1.751664   91.510742\n",
              "\n",
              "[8 rows x 7 columns]"
            ]
          },
          "metadata": {
            "tags": []
          },
          "execution_count": 49
        }
      ]
    },
    {
      "cell_type": "code",
      "metadata": {
        "id": "TIP10EX9x8UK",
        "colab_type": "code",
        "colab": {}
      },
      "source": [
        "comp_low = comp1[(comp1['ratio'] < 0.25)]\n",
        "comp_high = comp1[(comp1['ratio'] > 2.5)]\n",
        "comp_med = comp1[(comp1['ratio'] > 0.25)]\n",
        "comp_med = comp_med[(comp_med['ratio'] < 2.5)]"
      ],
      "execution_count": 0,
      "outputs": []
    },
    {
      "cell_type": "code",
      "metadata": {
        "id": "Gpwoe3ugfeGy",
        "colab_type": "code",
        "colab": {}
      },
      "source": [
        "a=4\n",
        "plt.figure(figsize= (3.5,2),dpi=300,edgecolor='black')\n",
        "plt.scatter(comp_med['Homogeneous actual'], (100*(comp_med['Homo_error'])), c ='gray',label = '0.25 < Ratio < 2.5',s=a )\n",
        "plt.scatter(comp_low['Homogeneous actual'], (100*(comp_low['Homo_error'])), c ='blue' ,label = 'Ratio < 0.25', s=a)\n",
        "plt.scatter(comp_high['Homogeneous actual'], (100*(comp_high['Homo_error'])), c ='red',label = 'Ratio > 2.5',s=a)\n",
        "\n",
        "#plt.ylim(0,2.5)\n",
        "plt.ylabel('Error (%)', fontsize = 10)\n",
        "plt.xlabel('$\\gamma$ (THz)', fontsize = 10)\n",
        "plt.axhline(y=2, c ='black')\n",
        "plt.axhline(y=-2, c ='black')\n",
        "plt.ylim(-7.5,7.5)\n",
        "plt.xlim(0.0,0.3)\n",
        "plt.legend(loc = 'center right',bbox_to_anchor=(2.5, 0.5), fontsize = 10)\n",
        "plt.savefig(\"error1.svg\")"
      ],
      "execution_count": 0,
      "outputs": []
    },
    {
      "cell_type": "code",
      "metadata": {
        "id": "v9mCdO5zC7Lj",
        "colab_type": "code",
        "colab": {}
      },
      "source": [
        "plt.figure(figsize= (3.5,2),dpi=300,edgecolor='black')\n",
        "a=4\n",
        "\n",
        "plt.scatter(comp_med['Inhomogeneous actual'], (100*(comp_med['inHomo_error'])), c ='gray',label = '0.25 < Ratio < 2.5',s=a )\n",
        "plt.scatter(comp_low['Inhomogeneous actual'], (100*(comp_low['inHomo_error'])), c ='blue',label = 'Ratio < 0.25',s=a )\n",
        "plt.scatter(comp_high['Inhomogeneous actual'], (100*(comp_high['inHomo_error'])), c ='red',label = 'Ratio > 2.5',s=a )\n",
        "\n",
        "\n",
        "plt.ylabel('Error (%)', fontsize = 10)\n",
        "plt.xlabel('$\\sigma$ (THz)', fontsize = 10)\n",
        "plt.axhline(y=2, c ='black')\n",
        "plt.axhline(y=-2, c ='black')\n",
        "plt.ylim(-7.5,7.5)\n",
        "plt.xlim(0.00,0.2)\n",
        "plt.savefig(\"error2.svg\")"
      ],
      "execution_count": 0,
      "outputs": []
    },
    {
      "cell_type": "code",
      "metadata": {
        "id": "fP5zTiJ3mJwf",
        "colab_type": "code",
        "colab": {}
      },
      "source": [
        "comp2[comp2['inHomo_error'] < -0.01]"
      ],
      "execution_count": 0,
      "outputs": []
    },
    {
      "cell_type": "code",
      "metadata": {
        "id": "vagx-auy0XoP",
        "colab_type": "code",
        "outputId": "74951e5c-4288-4e86-b7a8-621b8cc82b99",
        "colab": {
          "base_uri": "https://localhost:8080/",
          "height": 206
        }
      },
      "source": [
        "x_axis = pd.read_excel('KVapor/xAxis.xlsx', header = None)\n",
        "\n",
        "x_axis.head()"
      ],
      "execution_count": 0,
      "outputs": [
        {
          "output_type": "execute_result",
          "data": {
            "text/html": [
              "<div>\n",
              "<style scoped>\n",
              "    .dataframe tbody tr th:only-of-type {\n",
              "        vertical-align: middle;\n",
              "    }\n",
              "\n",
              "    .dataframe tbody tr th {\n",
              "        vertical-align: top;\n",
              "    }\n",
              "\n",
              "    .dataframe thead th {\n",
              "        text-align: right;\n",
              "    }\n",
              "</style>\n",
              "<table border=\"1\" class=\"dataframe\">\n",
              "  <thead>\n",
              "    <tr style=\"text-align: right;\">\n",
              "      <th></th>\n",
              "      <th>0</th>\n",
              "    </tr>\n",
              "  </thead>\n",
              "  <tbody>\n",
              "    <tr>\n",
              "      <th>0</th>\n",
              "      <td>390.002227</td>\n",
              "    </tr>\n",
              "    <tr>\n",
              "      <th>1</th>\n",
              "      <td>390.015817</td>\n",
              "    </tr>\n",
              "    <tr>\n",
              "      <th>2</th>\n",
              "      <td>390.029407</td>\n",
              "    </tr>\n",
              "    <tr>\n",
              "      <th>3</th>\n",
              "      <td>390.042998</td>\n",
              "    </tr>\n",
              "    <tr>\n",
              "      <th>4</th>\n",
              "      <td>390.056588</td>\n",
              "    </tr>\n",
              "  </tbody>\n",
              "</table>\n",
              "</div>"
            ],
            "text/plain": [
              "            0\n",
              "0  390.002227\n",
              "1  390.015817\n",
              "2  390.029407\n",
              "3  390.042998\n",
              "4  390.056588"
            ]
          },
          "metadata": {
            "tags": []
          },
          "execution_count": 64
        }
      ]
    },
    {
      "cell_type": "code",
      "metadata": {
        "id": "IrZnyNPq5QDE",
        "colab_type": "code",
        "outputId": "d27a2759-b65b-4cbc-c68f-035bdf34a55b",
        "colab": {
          "base_uri": "https://localhost:8080/",
          "height": 300
        }
      },
      "source": [
        "x_axis.describe()"
      ],
      "execution_count": 0,
      "outputs": [
        {
          "output_type": "execute_result",
          "data": {
            "text/html": [
              "<div>\n",
              "<style scoped>\n",
              "    .dataframe tbody tr th:only-of-type {\n",
              "        vertical-align: middle;\n",
              "    }\n",
              "\n",
              "    .dataframe tbody tr th {\n",
              "        vertical-align: top;\n",
              "    }\n",
              "\n",
              "    .dataframe thead th {\n",
              "        text-align: right;\n",
              "    }\n",
              "</style>\n",
              "<table border=\"1\" class=\"dataframe\">\n",
              "  <thead>\n",
              "    <tr style=\"text-align: right;\">\n",
              "      <th></th>\n",
              "      <th>0</th>\n",
              "    </tr>\n",
              "  </thead>\n",
              "  <tbody>\n",
              "    <tr>\n",
              "      <th>count</th>\n",
              "      <td>148.000000</td>\n",
              "    </tr>\n",
              "    <tr>\n",
              "      <th>mean</th>\n",
              "      <td>391.001119</td>\n",
              "    </tr>\n",
              "    <tr>\n",
              "      <th>std</th>\n",
              "      <td>0.582592</td>\n",
              "    </tr>\n",
              "    <tr>\n",
              "      <th>min</th>\n",
              "      <td>390.002227</td>\n",
              "    </tr>\n",
              "    <tr>\n",
              "      <th>25%</th>\n",
              "      <td>390.501673</td>\n",
              "    </tr>\n",
              "    <tr>\n",
              "      <th>50%</th>\n",
              "      <td>391.001119</td>\n",
              "    </tr>\n",
              "    <tr>\n",
              "      <th>75%</th>\n",
              "      <td>391.500565</td>\n",
              "    </tr>\n",
              "    <tr>\n",
              "      <th>max</th>\n",
              "      <td>392.000011</td>\n",
              "    </tr>\n",
              "  </tbody>\n",
              "</table>\n",
              "</div>"
            ],
            "text/plain": [
              "                0\n",
              "count  148.000000\n",
              "mean   391.001119\n",
              "std      0.582592\n",
              "min    390.002227\n",
              "25%    390.501673\n",
              "50%    391.001119\n",
              "75%    391.500565\n",
              "max    392.000011"
            ]
          },
          "metadata": {
            "tags": []
          },
          "execution_count": 65
        }
      ]
    },
    {
      "cell_type": "code",
      "metadata": {
        "id": "2gYCfCz-49M4",
        "colab_type": "code",
        "outputId": "9e7bbecb-3b75-4f48-858d-621665981184",
        "colab": {
          "base_uri": "https://localhost:8080/",
          "height": 206
        }
      },
      "source": [
        "y_axis = pd.read_excel('KVapor/yAxis.xlsx', header = None)\n",
        "#y_axis = y_axis.apply(np.abs)\n",
        "y_axis.head()"
      ],
      "execution_count": 0,
      "outputs": [
        {
          "output_type": "execute_result",
          "data": {
            "text/html": [
              "<div>\n",
              "<style scoped>\n",
              "    .dataframe tbody tr th:only-of-type {\n",
              "        vertical-align: middle;\n",
              "    }\n",
              "\n",
              "    .dataframe tbody tr th {\n",
              "        vertical-align: top;\n",
              "    }\n",
              "\n",
              "    .dataframe thead th {\n",
              "        text-align: right;\n",
              "    }\n",
              "</style>\n",
              "<table border=\"1\" class=\"dataframe\">\n",
              "  <thead>\n",
              "    <tr style=\"text-align: right;\">\n",
              "      <th></th>\n",
              "      <th>0</th>\n",
              "    </tr>\n",
              "  </thead>\n",
              "  <tbody>\n",
              "    <tr>\n",
              "      <th>0</th>\n",
              "      <td>-390.001823</td>\n",
              "    </tr>\n",
              "    <tr>\n",
              "      <th>1</th>\n",
              "      <td>-390.016277</td>\n",
              "    </tr>\n",
              "    <tr>\n",
              "      <th>2</th>\n",
              "      <td>-390.030730</td>\n",
              "    </tr>\n",
              "    <tr>\n",
              "      <th>3</th>\n",
              "      <td>-390.045184</td>\n",
              "    </tr>\n",
              "    <tr>\n",
              "      <th>4</th>\n",
              "      <td>-390.059637</td>\n",
              "    </tr>\n",
              "  </tbody>\n",
              "</table>\n",
              "</div>"
            ],
            "text/plain": [
              "            0\n",
              "0 -390.001823\n",
              "1 -390.016277\n",
              "2 -390.030730\n",
              "3 -390.045184\n",
              "4 -390.059637"
            ]
          },
          "metadata": {
            "tags": []
          },
          "execution_count": 66
        }
      ]
    },
    {
      "cell_type": "code",
      "metadata": {
        "id": "nvG9dc545g37",
        "colab_type": "code",
        "outputId": "abbd6046-bc3d-42f1-b05d-06dbc2c62ca2",
        "colab": {
          "base_uri": "https://localhost:8080/",
          "height": 300
        }
      },
      "source": [
        "y_axis.describe()"
      ],
      "execution_count": 0,
      "outputs": [
        {
          "output_type": "execute_result",
          "data": {
            "text/html": [
              "<div>\n",
              "<style scoped>\n",
              "    .dataframe tbody tr th:only-of-type {\n",
              "        vertical-align: middle;\n",
              "    }\n",
              "\n",
              "    .dataframe tbody tr th {\n",
              "        vertical-align: top;\n",
              "    }\n",
              "\n",
              "    .dataframe thead th {\n",
              "        text-align: right;\n",
              "    }\n",
              "</style>\n",
              "<table border=\"1\" class=\"dataframe\">\n",
              "  <thead>\n",
              "    <tr style=\"text-align: right;\">\n",
              "      <th></th>\n",
              "      <th>0</th>\n",
              "    </tr>\n",
              "  </thead>\n",
              "  <tbody>\n",
              "    <tr>\n",
              "      <th>count</th>\n",
              "      <td>139.000000</td>\n",
              "    </tr>\n",
              "    <tr>\n",
              "      <th>mean</th>\n",
              "      <td>-390.999117</td>\n",
              "    </tr>\n",
              "    <tr>\n",
              "      <th>std</th>\n",
              "      <td>0.582043</td>\n",
              "    </tr>\n",
              "    <tr>\n",
              "      <th>min</th>\n",
              "      <td>-391.996411</td>\n",
              "    </tr>\n",
              "    <tr>\n",
              "      <th>25%</th>\n",
              "      <td>-391.497764</td>\n",
              "    </tr>\n",
              "    <tr>\n",
              "      <th>50%</th>\n",
              "      <td>-390.999117</td>\n",
              "    </tr>\n",
              "    <tr>\n",
              "      <th>75%</th>\n",
              "      <td>-390.500470</td>\n",
              "    </tr>\n",
              "    <tr>\n",
              "      <th>max</th>\n",
              "      <td>-390.001823</td>\n",
              "    </tr>\n",
              "  </tbody>\n",
              "</table>\n",
              "</div>"
            ],
            "text/plain": [
              "                0\n",
              "count  139.000000\n",
              "mean  -390.999117\n",
              "std      0.582043\n",
              "min   -391.996411\n",
              "25%   -391.497764\n",
              "50%   -390.999117\n",
              "75%   -390.500470\n",
              "max   -390.001823"
            ]
          },
          "metadata": {
            "tags": []
          },
          "execution_count": 67
        }
      ]
    },
    {
      "cell_type": "code",
      "metadata": {
        "id": "Cw9mQ7ysMSwH",
        "colab_type": "code",
        "outputId": "507a7a6a-b61a-4771-a506-183d6a2dfe9e",
        "colab": {
          "base_uri": "https://localhost:8080/",
          "height": 255
        }
      },
      "source": [
        "exp = pd.read_table('kvapor.dat', header=None)\n",
        "\n",
        "exp.head()"
      ],
      "execution_count": 0,
      "outputs": [
        {
          "output_type": "execute_result",
          "data": {
            "text/html": [
              "<div>\n",
              "<style scoped>\n",
              "    .dataframe tbody tr th:only-of-type {\n",
              "        vertical-align: middle;\n",
              "    }\n",
              "\n",
              "    .dataframe tbody tr th {\n",
              "        vertical-align: top;\n",
              "    }\n",
              "\n",
              "    .dataframe thead th {\n",
              "        text-align: right;\n",
              "    }\n",
              "</style>\n",
              "<table border=\"1\" class=\"dataframe\">\n",
              "  <thead>\n",
              "    <tr style=\"text-align: right;\">\n",
              "      <th></th>\n",
              "      <th>0</th>\n",
              "      <th>1</th>\n",
              "      <th>2</th>\n",
              "      <th>3</th>\n",
              "      <th>4</th>\n",
              "      <th>5</th>\n",
              "      <th>6</th>\n",
              "      <th>7</th>\n",
              "      <th>8</th>\n",
              "      <th>9</th>\n",
              "      <th>10</th>\n",
              "      <th>11</th>\n",
              "      <th>12</th>\n",
              "      <th>13</th>\n",
              "      <th>14</th>\n",
              "      <th>15</th>\n",
              "      <th>16</th>\n",
              "      <th>17</th>\n",
              "      <th>18</th>\n",
              "      <th>19</th>\n",
              "      <th>20</th>\n",
              "      <th>21</th>\n",
              "      <th>22</th>\n",
              "      <th>23</th>\n",
              "      <th>24</th>\n",
              "      <th>25</th>\n",
              "      <th>26</th>\n",
              "      <th>27</th>\n",
              "      <th>28</th>\n",
              "      <th>29</th>\n",
              "      <th>30</th>\n",
              "      <th>31</th>\n",
              "      <th>32</th>\n",
              "      <th>33</th>\n",
              "      <th>34</th>\n",
              "      <th>35</th>\n",
              "      <th>36</th>\n",
              "      <th>37</th>\n",
              "      <th>38</th>\n",
              "      <th>39</th>\n",
              "      <th>...</th>\n",
              "      <th>108</th>\n",
              "      <th>109</th>\n",
              "      <th>110</th>\n",
              "      <th>111</th>\n",
              "      <th>112</th>\n",
              "      <th>113</th>\n",
              "      <th>114</th>\n",
              "      <th>115</th>\n",
              "      <th>116</th>\n",
              "      <th>117</th>\n",
              "      <th>118</th>\n",
              "      <th>119</th>\n",
              "      <th>120</th>\n",
              "      <th>121</th>\n",
              "      <th>122</th>\n",
              "      <th>123</th>\n",
              "      <th>124</th>\n",
              "      <th>125</th>\n",
              "      <th>126</th>\n",
              "      <th>127</th>\n",
              "      <th>128</th>\n",
              "      <th>129</th>\n",
              "      <th>130</th>\n",
              "      <th>131</th>\n",
              "      <th>132</th>\n",
              "      <th>133</th>\n",
              "      <th>134</th>\n",
              "      <th>135</th>\n",
              "      <th>136</th>\n",
              "      <th>137</th>\n",
              "      <th>138</th>\n",
              "      <th>139</th>\n",
              "      <th>140</th>\n",
              "      <th>141</th>\n",
              "      <th>142</th>\n",
              "      <th>143</th>\n",
              "      <th>144</th>\n",
              "      <th>145</th>\n",
              "      <th>146</th>\n",
              "      <th>147</th>\n",
              "    </tr>\n",
              "  </thead>\n",
              "  <tbody>\n",
              "    <tr>\n",
              "      <th>0</th>\n",
              "      <td>0.000124</td>\n",
              "      <td>0.000573</td>\n",
              "      <td>0.000606</td>\n",
              "      <td>0.000348</td>\n",
              "      <td>0.000737</td>\n",
              "      <td>0.000844</td>\n",
              "      <td>0.001016</td>\n",
              "      <td>0.001856</td>\n",
              "      <td>0.002256</td>\n",
              "      <td>0.001638</td>\n",
              "      <td>0.000289</td>\n",
              "      <td>0.000961</td>\n",
              "      <td>0.001237</td>\n",
              "      <td>0.000506</td>\n",
              "      <td>0.000739</td>\n",
              "      <td>0.001326</td>\n",
              "      <td>0.001056</td>\n",
              "      <td>0.000755</td>\n",
              "      <td>0.001214</td>\n",
              "      <td>0.001170</td>\n",
              "      <td>0.000915</td>\n",
              "      <td>0.001530</td>\n",
              "      <td>0.002006</td>\n",
              "      <td>0.001898</td>\n",
              "      <td>0.001671</td>\n",
              "      <td>0.001636</td>\n",
              "      <td>0.001609</td>\n",
              "      <td>0.001671</td>\n",
              "      <td>0.001816</td>\n",
              "      <td>0.001867</td>\n",
              "      <td>0.001848</td>\n",
              "      <td>0.001778</td>\n",
              "      <td>0.001727</td>\n",
              "      <td>0.002002</td>\n",
              "      <td>0.002310</td>\n",
              "      <td>0.002311</td>\n",
              "      <td>0.002390</td>\n",
              "      <td>0.002778</td>\n",
              "      <td>0.002816</td>\n",
              "      <td>0.002411</td>\n",
              "      <td>...</td>\n",
              "      <td>0.003295</td>\n",
              "      <td>0.003500</td>\n",
              "      <td>0.003469</td>\n",
              "      <td>0.003207</td>\n",
              "      <td>0.003318</td>\n",
              "      <td>0.003388</td>\n",
              "      <td>0.003086</td>\n",
              "      <td>0.002965</td>\n",
              "      <td>0.002981</td>\n",
              "      <td>0.002597</td>\n",
              "      <td>0.002194</td>\n",
              "      <td>0.002317</td>\n",
              "      <td>0.002496</td>\n",
              "      <td>0.002584</td>\n",
              "      <td>0.002533</td>\n",
              "      <td>0.002190</td>\n",
              "      <td>0.002327</td>\n",
              "      <td>0.003018</td>\n",
              "      <td>0.003013</td>\n",
              "      <td>0.002175</td>\n",
              "      <td>0.001839</td>\n",
              "      <td>0.002216</td>\n",
              "      <td>0.002065</td>\n",
              "      <td>0.001813</td>\n",
              "      <td>0.002094</td>\n",
              "      <td>0.002155</td>\n",
              "      <td>0.002111</td>\n",
              "      <td>0.002319</td>\n",
              "      <td>0.002142</td>\n",
              "      <td>0.001484</td>\n",
              "      <td>0.001432</td>\n",
              "      <td>0.001714</td>\n",
              "      <td>0.001384</td>\n",
              "      <td>0.000980</td>\n",
              "      <td>0.001186</td>\n",
              "      <td>0.001267</td>\n",
              "      <td>0.001278</td>\n",
              "      <td>0.001437</td>\n",
              "      <td>0.001408</td>\n",
              "      <td>0.001289</td>\n",
              "    </tr>\n",
              "    <tr>\n",
              "      <th>1</th>\n",
              "      <td>0.000406</td>\n",
              "      <td>0.000665</td>\n",
              "      <td>0.000401</td>\n",
              "      <td>0.000391</td>\n",
              "      <td>0.000761</td>\n",
              "      <td>0.000817</td>\n",
              "      <td>0.001140</td>\n",
              "      <td>0.001600</td>\n",
              "      <td>0.001415</td>\n",
              "      <td>0.000526</td>\n",
              "      <td>0.000744</td>\n",
              "      <td>0.001296</td>\n",
              "      <td>0.001055</td>\n",
              "      <td>0.001030</td>\n",
              "      <td>0.001552</td>\n",
              "      <td>0.001551</td>\n",
              "      <td>0.001313</td>\n",
              "      <td>0.001642</td>\n",
              "      <td>0.001728</td>\n",
              "      <td>0.001297</td>\n",
              "      <td>0.001471</td>\n",
              "      <td>0.002037</td>\n",
              "      <td>0.002030</td>\n",
              "      <td>0.001762</td>\n",
              "      <td>0.001791</td>\n",
              "      <td>0.001788</td>\n",
              "      <td>0.001778</td>\n",
              "      <td>0.002048</td>\n",
              "      <td>0.002170</td>\n",
              "      <td>0.002087</td>\n",
              "      <td>0.002128</td>\n",
              "      <td>0.002205</td>\n",
              "      <td>0.002361</td>\n",
              "      <td>0.002816</td>\n",
              "      <td>0.003037</td>\n",
              "      <td>0.002816</td>\n",
              "      <td>0.002804</td>\n",
              "      <td>0.003084</td>\n",
              "      <td>0.002935</td>\n",
              "      <td>0.002790</td>\n",
              "      <td>...</td>\n",
              "      <td>0.003246</td>\n",
              "      <td>0.003725</td>\n",
              "      <td>0.003475</td>\n",
              "      <td>0.003017</td>\n",
              "      <td>0.003111</td>\n",
              "      <td>0.003005</td>\n",
              "      <td>0.002610</td>\n",
              "      <td>0.002764</td>\n",
              "      <td>0.002854</td>\n",
              "      <td>0.002301</td>\n",
              "      <td>0.002222</td>\n",
              "      <td>0.002939</td>\n",
              "      <td>0.003103</td>\n",
              "      <td>0.002653</td>\n",
              "      <td>0.002463</td>\n",
              "      <td>0.002827</td>\n",
              "      <td>0.003106</td>\n",
              "      <td>0.002909</td>\n",
              "      <td>0.002333</td>\n",
              "      <td>0.002026</td>\n",
              "      <td>0.002197</td>\n",
              "      <td>0.002172</td>\n",
              "      <td>0.002037</td>\n",
              "      <td>0.002181</td>\n",
              "      <td>0.002185</td>\n",
              "      <td>0.001826</td>\n",
              "      <td>0.001662</td>\n",
              "      <td>0.001641</td>\n",
              "      <td>0.001299</td>\n",
              "      <td>0.001229</td>\n",
              "      <td>0.001567</td>\n",
              "      <td>0.001459</td>\n",
              "      <td>0.001095</td>\n",
              "      <td>0.001325</td>\n",
              "      <td>0.001598</td>\n",
              "      <td>0.001579</td>\n",
              "      <td>0.001585</td>\n",
              "      <td>0.001618</td>\n",
              "      <td>0.001532</td>\n",
              "      <td>0.001450</td>\n",
              "    </tr>\n",
              "    <tr>\n",
              "      <th>2</th>\n",
              "      <td>0.000686</td>\n",
              "      <td>0.000690</td>\n",
              "      <td>0.000592</td>\n",
              "      <td>0.000863</td>\n",
              "      <td>0.001020</td>\n",
              "      <td>0.001051</td>\n",
              "      <td>0.001246</td>\n",
              "      <td>0.001190</td>\n",
              "      <td>0.000588</td>\n",
              "      <td>0.000764</td>\n",
              "      <td>0.001568</td>\n",
              "      <td>0.001840</td>\n",
              "      <td>0.001750</td>\n",
              "      <td>0.001716</td>\n",
              "      <td>0.001654</td>\n",
              "      <td>0.001683</td>\n",
              "      <td>0.001988</td>\n",
              "      <td>0.001937</td>\n",
              "      <td>0.001304</td>\n",
              "      <td>0.001274</td>\n",
              "      <td>0.001908</td>\n",
              "      <td>0.002021</td>\n",
              "      <td>0.001845</td>\n",
              "      <td>0.001938</td>\n",
              "      <td>0.001970</td>\n",
              "      <td>0.002029</td>\n",
              "      <td>0.002460</td>\n",
              "      <td>0.002663</td>\n",
              "      <td>0.002429</td>\n",
              "      <td>0.002460</td>\n",
              "      <td>0.002710</td>\n",
              "      <td>0.002723</td>\n",
              "      <td>0.002919</td>\n",
              "      <td>0.003312</td>\n",
              "      <td>0.003188</td>\n",
              "      <td>0.002826</td>\n",
              "      <td>0.003015</td>\n",
              "      <td>0.003264</td>\n",
              "      <td>0.003248</td>\n",
              "      <td>0.003619</td>\n",
              "      <td>...</td>\n",
              "      <td>0.004142</td>\n",
              "      <td>0.004321</td>\n",
              "      <td>0.003734</td>\n",
              "      <td>0.003391</td>\n",
              "      <td>0.003542</td>\n",
              "      <td>0.003339</td>\n",
              "      <td>0.003330</td>\n",
              "      <td>0.003762</td>\n",
              "      <td>0.003507</td>\n",
              "      <td>0.002825</td>\n",
              "      <td>0.003291</td>\n",
              "      <td>0.003871</td>\n",
              "      <td>0.003343</td>\n",
              "      <td>0.002747</td>\n",
              "      <td>0.003274</td>\n",
              "      <td>0.003581</td>\n",
              "      <td>0.003000</td>\n",
              "      <td>0.002360</td>\n",
              "      <td>0.002364</td>\n",
              "      <td>0.002423</td>\n",
              "      <td>0.002248</td>\n",
              "      <td>0.002105</td>\n",
              "      <td>0.002113</td>\n",
              "      <td>0.001973</td>\n",
              "      <td>0.001616</td>\n",
              "      <td>0.001384</td>\n",
              "      <td>0.001623</td>\n",
              "      <td>0.001876</td>\n",
              "      <td>0.001953</td>\n",
              "      <td>0.001998</td>\n",
              "      <td>0.001950</td>\n",
              "      <td>0.001744</td>\n",
              "      <td>0.001678</td>\n",
              "      <td>0.001842</td>\n",
              "      <td>0.001907</td>\n",
              "      <td>0.001796</td>\n",
              "      <td>0.001639</td>\n",
              "      <td>0.001514</td>\n",
              "      <td>0.001424</td>\n",
              "      <td>0.001280</td>\n",
              "    </tr>\n",
              "    <tr>\n",
              "      <th>3</th>\n",
              "      <td>0.001161</td>\n",
              "      <td>0.001121</td>\n",
              "      <td>0.001038</td>\n",
              "      <td>0.001100</td>\n",
              "      <td>0.001091</td>\n",
              "      <td>0.001110</td>\n",
              "      <td>0.001177</td>\n",
              "      <td>0.001102</td>\n",
              "      <td>0.001195</td>\n",
              "      <td>0.001561</td>\n",
              "      <td>0.001826</td>\n",
              "      <td>0.001942</td>\n",
              "      <td>0.001900</td>\n",
              "      <td>0.001578</td>\n",
              "      <td>0.001541</td>\n",
              "      <td>0.002069</td>\n",
              "      <td>0.002096</td>\n",
              "      <td>0.001247</td>\n",
              "      <td>0.001159</td>\n",
              "      <td>0.002063</td>\n",
              "      <td>0.002247</td>\n",
              "      <td>0.002061</td>\n",
              "      <td>0.002290</td>\n",
              "      <td>0.002399</td>\n",
              "      <td>0.002331</td>\n",
              "      <td>0.002729</td>\n",
              "      <td>0.002997</td>\n",
              "      <td>0.002637</td>\n",
              "      <td>0.002521</td>\n",
              "      <td>0.002952</td>\n",
              "      <td>0.002965</td>\n",
              "      <td>0.002795</td>\n",
              "      <td>0.003104</td>\n",
              "      <td>0.003223</td>\n",
              "      <td>0.002885</td>\n",
              "      <td>0.002977</td>\n",
              "      <td>0.003406</td>\n",
              "      <td>0.003545</td>\n",
              "      <td>0.003741</td>\n",
              "      <td>0.004047</td>\n",
              "      <td>...</td>\n",
              "      <td>0.004715</td>\n",
              "      <td>0.004633</td>\n",
              "      <td>0.004096</td>\n",
              "      <td>0.003901</td>\n",
              "      <td>0.004019</td>\n",
              "      <td>0.003991</td>\n",
              "      <td>0.004163</td>\n",
              "      <td>0.004235</td>\n",
              "      <td>0.003588</td>\n",
              "      <td>0.003106</td>\n",
              "      <td>0.003611</td>\n",
              "      <td>0.003672</td>\n",
              "      <td>0.002994</td>\n",
              "      <td>0.003075</td>\n",
              "      <td>0.003590</td>\n",
              "      <td>0.003204</td>\n",
              "      <td>0.002357</td>\n",
              "      <td>0.002421</td>\n",
              "      <td>0.002648</td>\n",
              "      <td>0.002315</td>\n",
              "      <td>0.002033</td>\n",
              "      <td>0.002116</td>\n",
              "      <td>0.002111</td>\n",
              "      <td>0.001990</td>\n",
              "      <td>0.002036</td>\n",
              "      <td>0.002269</td>\n",
              "      <td>0.002632</td>\n",
              "      <td>0.002785</td>\n",
              "      <td>0.002543</td>\n",
              "      <td>0.002177</td>\n",
              "      <td>0.002053</td>\n",
              "      <td>0.001990</td>\n",
              "      <td>0.001827</td>\n",
              "      <td>0.001780</td>\n",
              "      <td>0.001773</td>\n",
              "      <td>0.001530</td>\n",
              "      <td>0.001209</td>\n",
              "      <td>0.001219</td>\n",
              "      <td>0.001313</td>\n",
              "      <td>0.001233</td>\n",
              "    </tr>\n",
              "    <tr>\n",
              "      <th>4</th>\n",
              "      <td>0.001460</td>\n",
              "      <td>0.001235</td>\n",
              "      <td>0.001118</td>\n",
              "      <td>0.001099</td>\n",
              "      <td>0.001063</td>\n",
              "      <td>0.001221</td>\n",
              "      <td>0.001446</td>\n",
              "      <td>0.001683</td>\n",
              "      <td>0.001935</td>\n",
              "      <td>0.001974</td>\n",
              "      <td>0.001913</td>\n",
              "      <td>0.002048</td>\n",
              "      <td>0.002041</td>\n",
              "      <td>0.001841</td>\n",
              "      <td>0.002105</td>\n",
              "      <td>0.002322</td>\n",
              "      <td>0.001727</td>\n",
              "      <td>0.001378</td>\n",
              "      <td>0.002352</td>\n",
              "      <td>0.002755</td>\n",
              "      <td>0.002497</td>\n",
              "      <td>0.002646</td>\n",
              "      <td>0.002948</td>\n",
              "      <td>0.002707</td>\n",
              "      <td>0.002670</td>\n",
              "      <td>0.002990</td>\n",
              "      <td>0.002820</td>\n",
              "      <td>0.002689</td>\n",
              "      <td>0.003218</td>\n",
              "      <td>0.003342</td>\n",
              "      <td>0.002905</td>\n",
              "      <td>0.002988</td>\n",
              "      <td>0.003326</td>\n",
              "      <td>0.003191</td>\n",
              "      <td>0.003285</td>\n",
              "      <td>0.003781</td>\n",
              "      <td>0.003887</td>\n",
              "      <td>0.003838</td>\n",
              "      <td>0.004050</td>\n",
              "      <td>0.004063</td>\n",
              "      <td>...</td>\n",
              "      <td>0.004502</td>\n",
              "      <td>0.004501</td>\n",
              "      <td>0.004060</td>\n",
              "      <td>0.003837</td>\n",
              "      <td>0.004003</td>\n",
              "      <td>0.004023</td>\n",
              "      <td>0.003869</td>\n",
              "      <td>0.003578</td>\n",
              "      <td>0.003071</td>\n",
              "      <td>0.002879</td>\n",
              "      <td>0.003169</td>\n",
              "      <td>0.003199</td>\n",
              "      <td>0.003003</td>\n",
              "      <td>0.003125</td>\n",
              "      <td>0.003155</td>\n",
              "      <td>0.002743</td>\n",
              "      <td>0.002504</td>\n",
              "      <td>0.002635</td>\n",
              "      <td>0.002439</td>\n",
              "      <td>0.002089</td>\n",
              "      <td>0.002258</td>\n",
              "      <td>0.002546</td>\n",
              "      <td>0.002580</td>\n",
              "      <td>0.002543</td>\n",
              "      <td>0.002605</td>\n",
              "      <td>0.002667</td>\n",
              "      <td>0.002669</td>\n",
              "      <td>0.002389</td>\n",
              "      <td>0.001873</td>\n",
              "      <td>0.001652</td>\n",
              "      <td>0.001795</td>\n",
              "      <td>0.001676</td>\n",
              "      <td>0.001349</td>\n",
              "      <td>0.001303</td>\n",
              "      <td>0.001238</td>\n",
              "      <td>0.000914</td>\n",
              "      <td>0.001016</td>\n",
              "      <td>0.001435</td>\n",
              "      <td>0.001516</td>\n",
              "      <td>0.001402</td>\n",
              "    </tr>\n",
              "  </tbody>\n",
              "</table>\n",
              "<p>5 rows × 148 columns</p>\n",
              "</div>"
            ],
            "text/plain": [
              "        0         1         2    ...       145       146       147\n",
              "0  0.000124  0.000573  0.000606  ...  0.001437  0.001408  0.001289\n",
              "1  0.000406  0.000665  0.000401  ...  0.001618  0.001532  0.001450\n",
              "2  0.000686  0.000690  0.000592  ...  0.001514  0.001424  0.001280\n",
              "3  0.001161  0.001121  0.001038  ...  0.001219  0.001313  0.001233\n",
              "4  0.001460  0.001235  0.001118  ...  0.001435  0.001516  0.001402\n",
              "\n",
              "[5 rows x 148 columns]"
            ]
          },
          "metadata": {
            "tags": []
          },
          "execution_count": 68
        }
      ]
    },
    {
      "cell_type": "code",
      "metadata": {
        "id": "9x6lHbZZ6yrU",
        "colab_type": "code",
        "outputId": "fc24f0b8-d5eb-4055-a600-cd9539f83f9f",
        "colab": {
          "base_uri": "https://localhost:8080/",
          "height": 36
        }
      },
      "source": [
        "np.array(exp).shape , x_axis[0].shape"
      ],
      "execution_count": 0,
      "outputs": [
        {
          "output_type": "execute_result",
          "data": {
            "text/plain": [
              "((139, 148), (148,))"
            ]
          },
          "metadata": {
            "tags": []
          },
          "execution_count": 69
        }
      ]
    },
    {
      "cell_type": "code",
      "metadata": {
        "id": "K3cgLL60qe-X",
        "colab_type": "code",
        "colab": {}
      },
      "source": [
        "from scipy.interpolate import RectBivariateSpline as interp\n",
        "\n",
        "spline = interp(np.abs(y_axis[0]),x_axis[0], np.array(exp))\n",
        "\n",
        "p = np.linspace(390,392,128)\n",
        "q = np.linspace(390,392,128)\n",
        "\n",
        "pq = np.zeros((128,128))\n",
        "pq.shape\n",
        "\n",
        "for i in range(128):\n",
        "  for j in range(128):\n",
        "    pq[i,j] = spline.ev(p[i],q[j])"
      ],
      "execution_count": 0,
      "outputs": []
    },
    {
      "cell_type": "code",
      "metadata": {
        "id": "JzjuE3kIAjzF",
        "colab_type": "code",
        "outputId": "15a8493c-41ed-4264-fb53-0beaad933222",
        "colab": {
          "base_uri": "https://localhost:8080/",
          "height": 128
        }
      },
      "source": [
        "plt.figure(figsize= (1.5,1.5))\n",
        "plt.contour(pq,20,cmap='inferno')\n",
        "plt.xticks(np.arange(0,135,60) ,np.arange(390,392.5), fontsize=8)\n",
        "plt.yticks(np.arange(0,135,60) ,np.arange(-392,-389.5), fontsize=8)\n",
        "\n",
        "#plt.xlabel(\"Frequency (THz)\", fontsize=8)\n",
        "#plt.ylabel(\"Frequency (THz)\", fontsize=8)\n",
        "\n",
        "\n",
        "plt.savefig(\"kvape_actual.svg\")"
      ],
      "execution_count": 0,
      "outputs": [
        {
          "output_type": "display_data",
          "data": {
            "image/png": "[encoded data removed]",
            "text/plain": [
              "<Figure size 108x108 with 1 Axes>"
            ]
          },
          "metadata": {
            "tags": []
          }
        }
      ]
    },
    {
      "cell_type": "code",
      "metadata": {
        "id": "sDNBbjJB1A4S",
        "colab_type": "code",
        "colab": {}
      },
      "source": [
        "def test(df):\n",
        "  \n",
        "  \n",
        "  \n",
        "  df_extract = scaler(df)\n",
        "  \n",
        "\n",
        "  plt.figure(figsize=(4,4))\n",
        "  plt.contour(df_extract,20)\n",
        "  #plt.xticks(np.arange(0,135,30) ,np.arange(372,374.5,0.5), fontsize=10)\n",
        "  #plt.yticks(np.arange(0,135,30) ,np.arange(372,374.5,0.5), fontsize=10)\n",
        "\n",
        "  \n",
        "  df_extract = df_extract.reshape((1,128,128,1))\n",
        "  \n",
        "  k = model.predict(df_extract)[0]\n",
        "  \n",
        "  for i in range(2):\n",
        "    if k[i] < 0:\n",
        "      k[i] = 0\n",
        "  \n",
        "  return k\n",
        "\n",
        "  "
      ],
      "execution_count": 0,
      "outputs": []
    },
    {
      "cell_type": "code",
      "metadata": {
        "id": "Bc1uzrXs1yyN",
        "colab_type": "code",
        "outputId": "8bc83dc7-2729-47da-a2f6-bfb2d21fe095",
        "colab": {
          "base_uri": "https://localhost:8080/",
          "height": 286
        }
      },
      "source": [
        "test(pq)"
      ],
      "execution_count": 0,
      "outputs": [
        {
          "output_type": "execute_result",
          "data": {
            "text/plain": [
              "array([0.0384432, 0.0083135], dtype=float32)"
            ]
          },
          "metadata": {
            "tags": []
          },
          "execution_count": 26
        },
        {
          "output_type": "display_data",
          "data": {
            "image/png": "[encoded data removed]",
            "text/plain": [
              "<Figure size 288x288 with 1 Axes>"
            ]
          },
          "metadata": {
            "tags": []
          }
        }
      ]
    },
    {
      "cell_type": "code",
      "metadata": {
        "id": "oK6_2y2iodQJ",
        "colab_type": "code",
        "outputId": "b7f2cdde-af76-4da9-f9f7-a3da80976f50",
        "colab": {
          "base_uri": "https://localhost:8080/",
          "height": 174
        }
      },
      "source": [
        "df1 = df[df['lambda_tu'] > 0.038]\n",
        "df1 = df1[df1['lambda_tu'] < 0.04]\n",
        "df1 = df1[df1['dw'] < 0.01]\n",
        "\n",
        "df1"
      ],
      "execution_count": 0,
      "outputs": [
        {
          "output_type": "execute_result",
          "data": {
            "text/html": [
              "<div>\n",
              "<style scoped>\n",
              "    .dataframe tbody tr th:only-of-type {\n",
              "        vertical-align: middle;\n",
              "    }\n",
              "\n",
              "    .dataframe tbody tr th {\n",
              "        vertical-align: top;\n",
              "    }\n",
              "\n",
              "    .dataframe thead th {\n",
              "        text-align: right;\n",
              "    }\n",
              "</style>\n",
              "<table border=\"1\" class=\"dataframe\">\n",
              "  <thead>\n",
              "    <tr style=\"text-align: right;\">\n",
              "      <th></th>\n",
              "      <th>lambda_tu</th>\n",
              "      <th>dw</th>\n",
              "      <th>file</th>\n",
              "    </tr>\n",
              "  </thead>\n",
              "  <tbody>\n",
              "    <tr>\n",
              "      <th>512</th>\n",
              "      <td>0.038968</td>\n",
              "      <td>0.000000</td>\n",
              "      <td>513.csv</td>\n",
              "    </tr>\n",
              "    <tr>\n",
              "      <th>513</th>\n",
              "      <td>0.038968</td>\n",
              "      <td>0.003175</td>\n",
              "      <td>514.csv</td>\n",
              "    </tr>\n",
              "    <tr>\n",
              "      <th>514</th>\n",
              "      <td>0.038968</td>\n",
              "      <td>0.006349</td>\n",
              "      <td>515.csv</td>\n",
              "    </tr>\n",
              "    <tr>\n",
              "      <th>515</th>\n",
              "      <td>0.038968</td>\n",
              "      <td>0.009524</td>\n",
              "      <td>516.csv</td>\n",
              "    </tr>\n",
              "  </tbody>\n",
              "</table>\n",
              "</div>"
            ],
            "text/plain": [
              "     lambda_tu        dw     file\n",
              "512   0.038968  0.000000  513.csv\n",
              "513   0.038968  0.003175  514.csv\n",
              "514   0.038968  0.006349  515.csv\n",
              "515   0.038968  0.009524  516.csv"
            ]
          },
          "metadata": {
            "tags": []
          },
          "execution_count": 42
        }
      ]
    },
    {
      "cell_type": "code",
      "metadata": {
        "id": "_IAJ40I9qyBZ",
        "colab_type": "code",
        "outputId": "0ed3d592-c392-471b-aa02-3896a88e5c2e",
        "colab": {
          "base_uri": "https://localhost:8080/",
          "height": 283
        }
      },
      "source": [
        "plt.figure(figsize=(4,4))\n",
        "plt.contour(np.array(pd.read_csv('516.csv')), 20)\n",
        "\n",
        "plt.xlabel(\"pixels\", fontsize=10)\n",
        "plt.ylabel(\"pixels\", fontsize=10)\n",
        "\n",
        "plt.savefig(\"kvape_pred.eps\")"
      ],
      "execution_count": 0,
      "outputs": [
        {
          "output_type": "display_data",
          "data": {
            "image/png": "[encoded data removed]",
            "text/plain": [
              "<Figure size 288x288 with 1 Axes>"
            ]
          },
          "metadata": {
            "tags": []
          }
        }
      ]
    },
    {
      "cell_type": "code",
      "metadata": {
        "id": "Ec7ajzl2m42e",
        "colab_type": "code",
        "colab": {}
      },
      "source": [
        ""
      ],
      "execution_count": 0,
      "outputs": []
    },
    {
      "cell_type": "code",
      "metadata": {
        "id": "vX7HdHdgDUWh",
        "colab_type": "code",
        "outputId": "757c6435-985b-472b-a956-8071fbb70033",
        "colab": {
          "base_uri": "https://localhost:8080/",
          "height": 206
        }
      },
      "source": [
        "x_axis = pd.read_excel('QuantumWells/xAxis.xlsx', header = None)\n",
        "\n",
        "x_axis.head()"
      ],
      "execution_count": 0,
      "outputs": [
        {
          "output_type": "execute_result",
          "data": {
            "text/html": [
              "<div>\n",
              "<style scoped>\n",
              "    .dataframe tbody tr th:only-of-type {\n",
              "        vertical-align: middle;\n",
              "    }\n",
              "\n",
              "    .dataframe tbody tr th {\n",
              "        vertical-align: top;\n",
              "    }\n",
              "\n",
              "    .dataframe thead th {\n",
              "        text-align: right;\n",
              "    }\n",
              "</style>\n",
              "<table border=\"1\" class=\"dataframe\">\n",
              "  <thead>\n",
              "    <tr style=\"text-align: right;\">\n",
              "      <th></th>\n",
              "      <th>0</th>\n",
              "    </tr>\n",
              "  </thead>\n",
              "  <tbody>\n",
              "    <tr>\n",
              "      <th>0</th>\n",
              "      <td>372.606256</td>\n",
              "    </tr>\n",
              "    <tr>\n",
              "      <th>1</th>\n",
              "      <td>372.618805</td>\n",
              "    </tr>\n",
              "    <tr>\n",
              "      <th>2</th>\n",
              "      <td>372.631354</td>\n",
              "    </tr>\n",
              "    <tr>\n",
              "      <th>3</th>\n",
              "      <td>372.643903</td>\n",
              "    </tr>\n",
              "    <tr>\n",
              "      <th>4</th>\n",
              "      <td>372.656451</td>\n",
              "    </tr>\n",
              "  </tbody>\n",
              "</table>\n",
              "</div>"
            ],
            "text/plain": [
              "            0\n",
              "0  372.606256\n",
              "1  372.618805\n",
              "2  372.631354\n",
              "3  372.643903\n",
              "4  372.656451"
            ]
          },
          "metadata": {
            "tags": []
          },
          "execution_count": 55
        }
      ]
    },
    {
      "cell_type": "code",
      "metadata": {
        "id": "8s6Zv0xjEDyC",
        "colab_type": "code",
        "outputId": "8eaa3181-c4a0-4901-9e33-250cd7249eef",
        "colab": {
          "base_uri": "https://localhost:8080/",
          "height": 300
        }
      },
      "source": [
        "x_axis.describe()"
      ],
      "execution_count": 0,
      "outputs": [
        {
          "output_type": "execute_result",
          "data": {
            "text/html": [
              "<div>\n",
              "<style scoped>\n",
              "    .dataframe tbody tr th:only-of-type {\n",
              "        vertical-align: middle;\n",
              "    }\n",
              "\n",
              "    .dataframe tbody tr th {\n",
              "        vertical-align: top;\n",
              "    }\n",
              "\n",
              "    .dataframe thead th {\n",
              "        text-align: right;\n",
              "    }\n",
              "</style>\n",
              "<table border=\"1\" class=\"dataframe\">\n",
              "  <thead>\n",
              "    <tr style=\"text-align: right;\">\n",
              "      <th></th>\n",
              "      <th>0</th>\n",
              "    </tr>\n",
              "  </thead>\n",
              "  <tbody>\n",
              "    <tr>\n",
              "      <th>count</th>\n",
              "      <td>160.000000</td>\n",
              "    </tr>\n",
              "    <tr>\n",
              "      <th>mean</th>\n",
              "      <td>373.603885</td>\n",
              "    </tr>\n",
              "    <tr>\n",
              "      <th>std</th>\n",
              "      <td>0.581412</td>\n",
              "    </tr>\n",
              "    <tr>\n",
              "      <th>min</th>\n",
              "      <td>372.606256</td>\n",
              "    </tr>\n",
              "    <tr>\n",
              "      <th>25%</th>\n",
              "      <td>373.105071</td>\n",
              "    </tr>\n",
              "    <tr>\n",
              "      <th>50%</th>\n",
              "      <td>373.603885</td>\n",
              "    </tr>\n",
              "    <tr>\n",
              "      <th>75%</th>\n",
              "      <td>374.102699</td>\n",
              "    </tr>\n",
              "    <tr>\n",
              "      <th>max</th>\n",
              "      <td>374.601513</td>\n",
              "    </tr>\n",
              "  </tbody>\n",
              "</table>\n",
              "</div>"
            ],
            "text/plain": [
              "                0\n",
              "count  160.000000\n",
              "mean   373.603885\n",
              "std      0.581412\n",
              "min    372.606256\n",
              "25%    373.105071\n",
              "50%    373.603885\n",
              "75%    374.102699\n",
              "max    374.601513"
            ]
          },
          "metadata": {
            "tags": []
          },
          "execution_count": 56
        }
      ]
    },
    {
      "cell_type": "code",
      "metadata": {
        "id": "5i9MtI6ZDhNa",
        "colab_type": "code",
        "outputId": "e4dc293d-0a02-443d-a881-470f877d7299",
        "colab": {
          "base_uri": "https://localhost:8080/",
          "height": 206
        }
      },
      "source": [
        "y_axis = pd.read_excel('QuantumWells/yAxis.xlsx', header = None)\n",
        "#y_axis = y_axis.apply(np.abs)\n",
        "y_axis.head()"
      ],
      "execution_count": 0,
      "outputs": [
        {
          "output_type": "execute_result",
          "data": {
            "text/html": [
              "<div>\n",
              "<style scoped>\n",
              "    .dataframe tbody tr th:only-of-type {\n",
              "        vertical-align: middle;\n",
              "    }\n",
              "\n",
              "    .dataframe tbody tr th {\n",
              "        vertical-align: top;\n",
              "    }\n",
              "\n",
              "    .dataframe thead th {\n",
              "        text-align: right;\n",
              "    }\n",
              "</style>\n",
              "<table border=\"1\" class=\"dataframe\">\n",
              "  <thead>\n",
              "    <tr style=\"text-align: right;\">\n",
              "      <th></th>\n",
              "      <th>0</th>\n",
              "    </tr>\n",
              "  </thead>\n",
              "  <tbody>\n",
              "    <tr>\n",
              "      <th>0</th>\n",
              "      <td>-372.602163</td>\n",
              "    </tr>\n",
              "    <tr>\n",
              "      <th>1</th>\n",
              "      <td>-372.609390</td>\n",
              "    </tr>\n",
              "    <tr>\n",
              "      <th>2</th>\n",
              "      <td>-372.616616</td>\n",
              "    </tr>\n",
              "    <tr>\n",
              "      <th>3</th>\n",
              "      <td>-372.623843</td>\n",
              "    </tr>\n",
              "    <tr>\n",
              "      <th>4</th>\n",
              "      <td>-372.631070</td>\n",
              "    </tr>\n",
              "  </tbody>\n",
              "</table>\n",
              "</div>"
            ],
            "text/plain": [
              "            0\n",
              "0 -372.602163\n",
              "1 -372.609390\n",
              "2 -372.616616\n",
              "3 -372.623843\n",
              "4 -372.631070"
            ]
          },
          "metadata": {
            "tags": []
          },
          "execution_count": 57
        }
      ]
    },
    {
      "cell_type": "code",
      "metadata": {
        "id": "K_ZirmM5213k",
        "colab_type": "code",
        "outputId": "50d043c0-e9e5-4777-da00-2f2223078dfe",
        "colab": {
          "base_uri": "https://localhost:8080/",
          "height": 300
        }
      },
      "source": [
        "y_axis.describe()"
      ],
      "execution_count": 0,
      "outputs": [
        {
          "output_type": "execute_result",
          "data": {
            "text/html": [
              "<div>\n",
              "<style scoped>\n",
              "    .dataframe tbody tr th:only-of-type {\n",
              "        vertical-align: middle;\n",
              "    }\n",
              "\n",
              "    .dataframe tbody tr th {\n",
              "        vertical-align: top;\n",
              "    }\n",
              "\n",
              "    .dataframe thead th {\n",
              "        text-align: right;\n",
              "    }\n",
              "</style>\n",
              "<table border=\"1\" class=\"dataframe\">\n",
              "  <thead>\n",
              "    <tr style=\"text-align: right;\">\n",
              "      <th></th>\n",
              "      <th>0</th>\n",
              "    </tr>\n",
              "  </thead>\n",
              "  <tbody>\n",
              "    <tr>\n",
              "      <th>count</th>\n",
              "      <td>277.000000</td>\n",
              "    </tr>\n",
              "    <tr>\n",
              "      <th>mean</th>\n",
              "      <td>-373.599457</td>\n",
              "    </tr>\n",
              "    <tr>\n",
              "      <th>std</th>\n",
              "      <td>0.578916</td>\n",
              "    </tr>\n",
              "    <tr>\n",
              "      <th>min</th>\n",
              "      <td>-374.596750</td>\n",
              "    </tr>\n",
              "    <tr>\n",
              "      <th>25%</th>\n",
              "      <td>-374.098104</td>\n",
              "    </tr>\n",
              "    <tr>\n",
              "      <th>50%</th>\n",
              "      <td>-373.599457</td>\n",
              "    </tr>\n",
              "    <tr>\n",
              "      <th>75%</th>\n",
              "      <td>-373.100810</td>\n",
              "    </tr>\n",
              "    <tr>\n",
              "      <th>max</th>\n",
              "      <td>-372.602163</td>\n",
              "    </tr>\n",
              "  </tbody>\n",
              "</table>\n",
              "</div>"
            ],
            "text/plain": [
              "                0\n",
              "count  277.000000\n",
              "mean  -373.599457\n",
              "std      0.578916\n",
              "min   -374.596750\n",
              "25%   -374.098104\n",
              "50%   -373.599457\n",
              "75%   -373.100810\n",
              "max   -372.602163"
            ]
          },
          "metadata": {
            "tags": []
          },
          "execution_count": 58
        }
      ]
    },
    {
      "cell_type": "code",
      "metadata": {
        "id": "E9VD_B3H2XEy",
        "colab_type": "code",
        "outputId": "e275b9de-1f09-4ced-ffa2-b5bd1d73692e",
        "colab": {
          "base_uri": "https://localhost:8080/",
          "height": 255
        }
      },
      "source": [
        "exp3 = pd.read_table('quantum.dat', header=None)\n",
        "\n",
        "exp3.head()"
      ],
      "execution_count": 0,
      "outputs": [
        {
          "output_type": "execute_result",
          "data": {
            "text/html": [
              "<div>\n",
              "<style scoped>\n",
              "    .dataframe tbody tr th:only-of-type {\n",
              "        vertical-align: middle;\n",
              "    }\n",
              "\n",
              "    .dataframe tbody tr th {\n",
              "        vertical-align: top;\n",
              "    }\n",
              "\n",
              "    .dataframe thead th {\n",
              "        text-align: right;\n",
              "    }\n",
              "</style>\n",
              "<table border=\"1\" class=\"dataframe\">\n",
              "  <thead>\n",
              "    <tr style=\"text-align: right;\">\n",
              "      <th></th>\n",
              "      <th>0</th>\n",
              "      <th>1</th>\n",
              "      <th>2</th>\n",
              "      <th>3</th>\n",
              "      <th>4</th>\n",
              "      <th>5</th>\n",
              "      <th>6</th>\n",
              "      <th>7</th>\n",
              "      <th>8</th>\n",
              "      <th>9</th>\n",
              "      <th>10</th>\n",
              "      <th>11</th>\n",
              "      <th>12</th>\n",
              "      <th>13</th>\n",
              "      <th>14</th>\n",
              "      <th>15</th>\n",
              "      <th>16</th>\n",
              "      <th>17</th>\n",
              "      <th>18</th>\n",
              "      <th>19</th>\n",
              "      <th>20</th>\n",
              "      <th>21</th>\n",
              "      <th>22</th>\n",
              "      <th>23</th>\n",
              "      <th>24</th>\n",
              "      <th>25</th>\n",
              "      <th>26</th>\n",
              "      <th>27</th>\n",
              "      <th>28</th>\n",
              "      <th>29</th>\n",
              "      <th>30</th>\n",
              "      <th>31</th>\n",
              "      <th>32</th>\n",
              "      <th>33</th>\n",
              "      <th>34</th>\n",
              "      <th>35</th>\n",
              "      <th>36</th>\n",
              "      <th>37</th>\n",
              "      <th>38</th>\n",
              "      <th>39</th>\n",
              "      <th>...</th>\n",
              "      <th>120</th>\n",
              "      <th>121</th>\n",
              "      <th>122</th>\n",
              "      <th>123</th>\n",
              "      <th>124</th>\n",
              "      <th>125</th>\n",
              "      <th>126</th>\n",
              "      <th>127</th>\n",
              "      <th>128</th>\n",
              "      <th>129</th>\n",
              "      <th>130</th>\n",
              "      <th>131</th>\n",
              "      <th>132</th>\n",
              "      <th>133</th>\n",
              "      <th>134</th>\n",
              "      <th>135</th>\n",
              "      <th>136</th>\n",
              "      <th>137</th>\n",
              "      <th>138</th>\n",
              "      <th>139</th>\n",
              "      <th>140</th>\n",
              "      <th>141</th>\n",
              "      <th>142</th>\n",
              "      <th>143</th>\n",
              "      <th>144</th>\n",
              "      <th>145</th>\n",
              "      <th>146</th>\n",
              "      <th>147</th>\n",
              "      <th>148</th>\n",
              "      <th>149</th>\n",
              "      <th>150</th>\n",
              "      <th>151</th>\n",
              "      <th>152</th>\n",
              "      <th>153</th>\n",
              "      <th>154</th>\n",
              "      <th>155</th>\n",
              "      <th>156</th>\n",
              "      <th>157</th>\n",
              "      <th>158</th>\n",
              "      <th>159</th>\n",
              "    </tr>\n",
              "  </thead>\n",
              "  <tbody>\n",
              "    <tr>\n",
              "      <th>0</th>\n",
              "      <td>0.004178</td>\n",
              "      <td>0.004726</td>\n",
              "      <td>0.005244</td>\n",
              "      <td>0.005532</td>\n",
              "      <td>0.004930</td>\n",
              "      <td>0.004883</td>\n",
              "      <td>0.005469</td>\n",
              "      <td>0.005299</td>\n",
              "      <td>0.005342</td>\n",
              "      <td>0.005341</td>\n",
              "      <td>0.005346</td>\n",
              "      <td>0.005573</td>\n",
              "      <td>0.005695</td>\n",
              "      <td>0.006052</td>\n",
              "      <td>0.005940</td>\n",
              "      <td>0.005748</td>\n",
              "      <td>0.005717</td>\n",
              "      <td>0.005548</td>\n",
              "      <td>0.005810</td>\n",
              "      <td>0.005654</td>\n",
              "      <td>0.005564</td>\n",
              "      <td>0.005552</td>\n",
              "      <td>0.005111</td>\n",
              "      <td>0.005620</td>\n",
              "      <td>0.006059</td>\n",
              "      <td>0.006190</td>\n",
              "      <td>0.006255</td>\n",
              "      <td>0.006458</td>\n",
              "      <td>0.007492</td>\n",
              "      <td>0.007590</td>\n",
              "      <td>0.007494</td>\n",
              "      <td>0.007733</td>\n",
              "      <td>0.007613</td>\n",
              "      <td>0.008446</td>\n",
              "      <td>0.008658</td>\n",
              "      <td>0.009076</td>\n",
              "      <td>0.009902</td>\n",
              "      <td>0.008598</td>\n",
              "      <td>0.008629</td>\n",
              "      <td>0.009562</td>\n",
              "      <td>...</td>\n",
              "      <td>0.005902</td>\n",
              "      <td>0.005184</td>\n",
              "      <td>0.004966</td>\n",
              "      <td>0.004676</td>\n",
              "      <td>0.004231</td>\n",
              "      <td>0.004041</td>\n",
              "      <td>0.003631</td>\n",
              "      <td>0.003205</td>\n",
              "      <td>0.003088</td>\n",
              "      <td>0.003004</td>\n",
              "      <td>0.002899</td>\n",
              "      <td>0.003047</td>\n",
              "      <td>0.003486</td>\n",
              "      <td>0.003669</td>\n",
              "      <td>0.003711</td>\n",
              "      <td>0.003785</td>\n",
              "      <td>0.003583</td>\n",
              "      <td>0.003522</td>\n",
              "      <td>0.003583</td>\n",
              "      <td>0.003346</td>\n",
              "      <td>0.003100</td>\n",
              "      <td>0.002979</td>\n",
              "      <td>0.002912</td>\n",
              "      <td>0.002750</td>\n",
              "      <td>0.002583</td>\n",
              "      <td>0.002630</td>\n",
              "      <td>0.002506</td>\n",
              "      <td>0.002413</td>\n",
              "      <td>0.002588</td>\n",
              "      <td>0.002706</td>\n",
              "      <td>0.002713</td>\n",
              "      <td>0.002560</td>\n",
              "      <td>0.002569</td>\n",
              "      <td>0.002624</td>\n",
              "      <td>0.002449</td>\n",
              "      <td>0.002544</td>\n",
              "      <td>0.002663</td>\n",
              "      <td>0.002595</td>\n",
              "      <td>0.002700</td>\n",
              "      <td>0.002716</td>\n",
              "    </tr>\n",
              "    <tr>\n",
              "      <th>1</th>\n",
              "      <td>0.004267</td>\n",
              "      <td>0.004828</td>\n",
              "      <td>0.005319</td>\n",
              "      <td>0.005555</td>\n",
              "      <td>0.004905</td>\n",
              "      <td>0.004921</td>\n",
              "      <td>0.005509</td>\n",
              "      <td>0.005335</td>\n",
              "      <td>0.005411</td>\n",
              "      <td>0.005382</td>\n",
              "      <td>0.005410</td>\n",
              "      <td>0.005666</td>\n",
              "      <td>0.005792</td>\n",
              "      <td>0.006129</td>\n",
              "      <td>0.005976</td>\n",
              "      <td>0.005793</td>\n",
              "      <td>0.005735</td>\n",
              "      <td>0.005567</td>\n",
              "      <td>0.005862</td>\n",
              "      <td>0.005664</td>\n",
              "      <td>0.005584</td>\n",
              "      <td>0.005588</td>\n",
              "      <td>0.005157</td>\n",
              "      <td>0.005702</td>\n",
              "      <td>0.006133</td>\n",
              "      <td>0.006243</td>\n",
              "      <td>0.006291</td>\n",
              "      <td>0.006566</td>\n",
              "      <td>0.007604</td>\n",
              "      <td>0.007638</td>\n",
              "      <td>0.007574</td>\n",
              "      <td>0.007802</td>\n",
              "      <td>0.007722</td>\n",
              "      <td>0.008600</td>\n",
              "      <td>0.008792</td>\n",
              "      <td>0.009242</td>\n",
              "      <td>0.009925</td>\n",
              "      <td>0.008568</td>\n",
              "      <td>0.008779</td>\n",
              "      <td>0.009610</td>\n",
              "      <td>...</td>\n",
              "      <td>0.005996</td>\n",
              "      <td>0.005295</td>\n",
              "      <td>0.005105</td>\n",
              "      <td>0.004793</td>\n",
              "      <td>0.004353</td>\n",
              "      <td>0.004190</td>\n",
              "      <td>0.003789</td>\n",
              "      <td>0.003372</td>\n",
              "      <td>0.003252</td>\n",
              "      <td>0.003170</td>\n",
              "      <td>0.003092</td>\n",
              "      <td>0.003287</td>\n",
              "      <td>0.003719</td>\n",
              "      <td>0.003862</td>\n",
              "      <td>0.003883</td>\n",
              "      <td>0.003934</td>\n",
              "      <td>0.003738</td>\n",
              "      <td>0.003710</td>\n",
              "      <td>0.003752</td>\n",
              "      <td>0.003491</td>\n",
              "      <td>0.003268</td>\n",
              "      <td>0.003171</td>\n",
              "      <td>0.003092</td>\n",
              "      <td>0.002912</td>\n",
              "      <td>0.002748</td>\n",
              "      <td>0.002779</td>\n",
              "      <td>0.002637</td>\n",
              "      <td>0.002545</td>\n",
              "      <td>0.002698</td>\n",
              "      <td>0.002785</td>\n",
              "      <td>0.002770</td>\n",
              "      <td>0.002613</td>\n",
              "      <td>0.002608</td>\n",
              "      <td>0.002633</td>\n",
              "      <td>0.002481</td>\n",
              "      <td>0.002582</td>\n",
              "      <td>0.002652</td>\n",
              "      <td>0.002594</td>\n",
              "      <td>0.002707</td>\n",
              "      <td>0.002701</td>\n",
              "    </tr>\n",
              "    <tr>\n",
              "      <th>2</th>\n",
              "      <td>0.004359</td>\n",
              "      <td>0.004925</td>\n",
              "      <td>0.005387</td>\n",
              "      <td>0.005570</td>\n",
              "      <td>0.004879</td>\n",
              "      <td>0.004970</td>\n",
              "      <td>0.005555</td>\n",
              "      <td>0.005381</td>\n",
              "      <td>0.005485</td>\n",
              "      <td>0.005427</td>\n",
              "      <td>0.005486</td>\n",
              "      <td>0.005767</td>\n",
              "      <td>0.005892</td>\n",
              "      <td>0.006203</td>\n",
              "      <td>0.006011</td>\n",
              "      <td>0.005838</td>\n",
              "      <td>0.005751</td>\n",
              "      <td>0.005590</td>\n",
              "      <td>0.005913</td>\n",
              "      <td>0.005671</td>\n",
              "      <td>0.005609</td>\n",
              "      <td>0.005623</td>\n",
              "      <td>0.005203</td>\n",
              "      <td>0.005786</td>\n",
              "      <td>0.006205</td>\n",
              "      <td>0.006293</td>\n",
              "      <td>0.006330</td>\n",
              "      <td>0.006680</td>\n",
              "      <td>0.007714</td>\n",
              "      <td>0.007690</td>\n",
              "      <td>0.007661</td>\n",
              "      <td>0.007878</td>\n",
              "      <td>0.007844</td>\n",
              "      <td>0.008760</td>\n",
              "      <td>0.008927</td>\n",
              "      <td>0.009394</td>\n",
              "      <td>0.009929</td>\n",
              "      <td>0.008549</td>\n",
              "      <td>0.008930</td>\n",
              "      <td>0.009647</td>\n",
              "      <td>...</td>\n",
              "      <td>0.006090</td>\n",
              "      <td>0.005412</td>\n",
              "      <td>0.005245</td>\n",
              "      <td>0.004909</td>\n",
              "      <td>0.004480</td>\n",
              "      <td>0.004344</td>\n",
              "      <td>0.003948</td>\n",
              "      <td>0.003534</td>\n",
              "      <td>0.003410</td>\n",
              "      <td>0.003332</td>\n",
              "      <td>0.003284</td>\n",
              "      <td>0.003517</td>\n",
              "      <td>0.003934</td>\n",
              "      <td>0.004038</td>\n",
              "      <td>0.004039</td>\n",
              "      <td>0.004071</td>\n",
              "      <td>0.003886</td>\n",
              "      <td>0.003889</td>\n",
              "      <td>0.003909</td>\n",
              "      <td>0.003630</td>\n",
              "      <td>0.003432</td>\n",
              "      <td>0.003352</td>\n",
              "      <td>0.003256</td>\n",
              "      <td>0.003059</td>\n",
              "      <td>0.002899</td>\n",
              "      <td>0.002911</td>\n",
              "      <td>0.002752</td>\n",
              "      <td>0.002658</td>\n",
              "      <td>0.002785</td>\n",
              "      <td>0.002843</td>\n",
              "      <td>0.002809</td>\n",
              "      <td>0.002650</td>\n",
              "      <td>0.002632</td>\n",
              "      <td>0.002631</td>\n",
              "      <td>0.002508</td>\n",
              "      <td>0.002608</td>\n",
              "      <td>0.002631</td>\n",
              "      <td>0.002594</td>\n",
              "      <td>0.002713</td>\n",
              "      <td>0.002684</td>\n",
              "    </tr>\n",
              "    <tr>\n",
              "      <th>3</th>\n",
              "      <td>0.004453</td>\n",
              "      <td>0.005017</td>\n",
              "      <td>0.005449</td>\n",
              "      <td>0.005577</td>\n",
              "      <td>0.004855</td>\n",
              "      <td>0.005030</td>\n",
              "      <td>0.005607</td>\n",
              "      <td>0.005437</td>\n",
              "      <td>0.005564</td>\n",
              "      <td>0.005476</td>\n",
              "      <td>0.005575</td>\n",
              "      <td>0.005876</td>\n",
              "      <td>0.005992</td>\n",
              "      <td>0.006274</td>\n",
              "      <td>0.006046</td>\n",
              "      <td>0.005883</td>\n",
              "      <td>0.005763</td>\n",
              "      <td>0.005618</td>\n",
              "      <td>0.005962</td>\n",
              "      <td>0.005675</td>\n",
              "      <td>0.005640</td>\n",
              "      <td>0.005658</td>\n",
              "      <td>0.005250</td>\n",
              "      <td>0.005873</td>\n",
              "      <td>0.006275</td>\n",
              "      <td>0.006341</td>\n",
              "      <td>0.006376</td>\n",
              "      <td>0.006802</td>\n",
              "      <td>0.007823</td>\n",
              "      <td>0.007747</td>\n",
              "      <td>0.007758</td>\n",
              "      <td>0.007961</td>\n",
              "      <td>0.007980</td>\n",
              "      <td>0.008922</td>\n",
              "      <td>0.009060</td>\n",
              "      <td>0.009530</td>\n",
              "      <td>0.009916</td>\n",
              "      <td>0.008545</td>\n",
              "      <td>0.009080</td>\n",
              "      <td>0.009675</td>\n",
              "      <td>...</td>\n",
              "      <td>0.006180</td>\n",
              "      <td>0.005532</td>\n",
              "      <td>0.005382</td>\n",
              "      <td>0.005021</td>\n",
              "      <td>0.004609</td>\n",
              "      <td>0.004499</td>\n",
              "      <td>0.004103</td>\n",
              "      <td>0.003686</td>\n",
              "      <td>0.003558</td>\n",
              "      <td>0.003489</td>\n",
              "      <td>0.003469</td>\n",
              "      <td>0.003732</td>\n",
              "      <td>0.004128</td>\n",
              "      <td>0.004196</td>\n",
              "      <td>0.004180</td>\n",
              "      <td>0.004195</td>\n",
              "      <td>0.004027</td>\n",
              "      <td>0.004057</td>\n",
              "      <td>0.004052</td>\n",
              "      <td>0.003760</td>\n",
              "      <td>0.003586</td>\n",
              "      <td>0.003515</td>\n",
              "      <td>0.003400</td>\n",
              "      <td>0.003189</td>\n",
              "      <td>0.003031</td>\n",
              "      <td>0.003024</td>\n",
              "      <td>0.002848</td>\n",
              "      <td>0.002749</td>\n",
              "      <td>0.002848</td>\n",
              "      <td>0.002880</td>\n",
              "      <td>0.002830</td>\n",
              "      <td>0.002672</td>\n",
              "      <td>0.002640</td>\n",
              "      <td>0.002618</td>\n",
              "      <td>0.002529</td>\n",
              "      <td>0.002621</td>\n",
              "      <td>0.002602</td>\n",
              "      <td>0.002593</td>\n",
              "      <td>0.002714</td>\n",
              "      <td>0.002661</td>\n",
              "    </tr>\n",
              "    <tr>\n",
              "      <th>4</th>\n",
              "      <td>0.004549</td>\n",
              "      <td>0.005105</td>\n",
              "      <td>0.005505</td>\n",
              "      <td>0.005577</td>\n",
              "      <td>0.004837</td>\n",
              "      <td>0.005103</td>\n",
              "      <td>0.005667</td>\n",
              "      <td>0.005503</td>\n",
              "      <td>0.005647</td>\n",
              "      <td>0.005531</td>\n",
              "      <td>0.005678</td>\n",
              "      <td>0.005990</td>\n",
              "      <td>0.006092</td>\n",
              "      <td>0.006341</td>\n",
              "      <td>0.006080</td>\n",
              "      <td>0.005927</td>\n",
              "      <td>0.005774</td>\n",
              "      <td>0.005651</td>\n",
              "      <td>0.006008</td>\n",
              "      <td>0.005677</td>\n",
              "      <td>0.005675</td>\n",
              "      <td>0.005691</td>\n",
              "      <td>0.005301</td>\n",
              "      <td>0.005963</td>\n",
              "      <td>0.006343</td>\n",
              "      <td>0.006390</td>\n",
              "      <td>0.006428</td>\n",
              "      <td>0.006932</td>\n",
              "      <td>0.007933</td>\n",
              "      <td>0.007811</td>\n",
              "      <td>0.007862</td>\n",
              "      <td>0.008051</td>\n",
              "      <td>0.008127</td>\n",
              "      <td>0.009086</td>\n",
              "      <td>0.009189</td>\n",
              "      <td>0.009649</td>\n",
              "      <td>0.009889</td>\n",
              "      <td>0.008558</td>\n",
              "      <td>0.009227</td>\n",
              "      <td>0.009695</td>\n",
              "      <td>...</td>\n",
              "      <td>0.006266</td>\n",
              "      <td>0.005651</td>\n",
              "      <td>0.005511</td>\n",
              "      <td>0.005126</td>\n",
              "      <td>0.004736</td>\n",
              "      <td>0.004649</td>\n",
              "      <td>0.004250</td>\n",
              "      <td>0.003825</td>\n",
              "      <td>0.003695</td>\n",
              "      <td>0.003638</td>\n",
              "      <td>0.003646</td>\n",
              "      <td>0.003930</td>\n",
              "      <td>0.004302</td>\n",
              "      <td>0.004335</td>\n",
              "      <td>0.004304</td>\n",
              "      <td>0.004304</td>\n",
              "      <td>0.004160</td>\n",
              "      <td>0.004212</td>\n",
              "      <td>0.004181</td>\n",
              "      <td>0.003880</td>\n",
              "      <td>0.003727</td>\n",
              "      <td>0.003660</td>\n",
              "      <td>0.003524</td>\n",
              "      <td>0.003300</td>\n",
              "      <td>0.003145</td>\n",
              "      <td>0.003116</td>\n",
              "      <td>0.002924</td>\n",
              "      <td>0.002816</td>\n",
              "      <td>0.002886</td>\n",
              "      <td>0.002897</td>\n",
              "      <td>0.002833</td>\n",
              "      <td>0.002678</td>\n",
              "      <td>0.002634</td>\n",
              "      <td>0.002595</td>\n",
              "      <td>0.002543</td>\n",
              "      <td>0.002621</td>\n",
              "      <td>0.002563</td>\n",
              "      <td>0.002589</td>\n",
              "      <td>0.002708</td>\n",
              "      <td>0.002631</td>\n",
              "    </tr>\n",
              "  </tbody>\n",
              "</table>\n",
              "<p>5 rows × 160 columns</p>\n",
              "</div>"
            ],
            "text/plain": [
              "        0         1         2    ...       157       158       159\n",
              "0  0.004178  0.004726  0.005244  ...  0.002595  0.002700  0.002716\n",
              "1  0.004267  0.004828  0.005319  ...  0.002594  0.002707  0.002701\n",
              "2  0.004359  0.004925  0.005387  ...  0.002594  0.002713  0.002684\n",
              "3  0.004453  0.005017  0.005449  ...  0.002593  0.002714  0.002661\n",
              "4  0.004549  0.005105  0.005505  ...  0.002589  0.002708  0.002631\n",
              "\n",
              "[5 rows x 160 columns]"
            ]
          },
          "metadata": {
            "tags": []
          },
          "execution_count": 59
        }
      ]
    },
    {
      "cell_type": "code",
      "metadata": {
        "id": "d265gjQzDvGB",
        "colab_type": "code",
        "colab": {}
      },
      "source": [
        "from scipy.interpolate import RectBivariateSpline as interp\n",
        "\n",
        "spline = interp(np.abs(y_axis[0]),x_axis[0], np.array(exp3))\n",
        "\n",
        "p = np.linspace(372.6,374.6,128)\n",
        "q = np.linspace(372.6,374.6,128)\n",
        "\n",
        "pq = np.zeros((128,128))\n",
        "pq.shape\n",
        "\n",
        "for i in range(128):\n",
        "  for j in range(128):\n",
        "    pq[i,j] = spline.ev(p[i],q[j])"
      ],
      "execution_count": 0,
      "outputs": []
    },
    {
      "cell_type": "code",
      "metadata": {
        "id": "DqbnBFEDqm32",
        "colab_type": "code",
        "outputId": "64e95d37-f4d5-458d-ff40-0e663300f02a",
        "colab": {
          "base_uri": "https://localhost:8080/",
          "height": 128
        }
      },
      "source": [
        "plt.figure(figsize= (1.5,1.5))\n",
        "plt.contour(pq,20, cmap = 'inferno')\n",
        "plt.xticks(np.arange(0,135,60) ,np.arange(372.6,375), fontsize=8)\n",
        "plt.yticks(np.arange(0,135,60) ,np.arange(-374.5,-371.5), fontsize=8)\n",
        "\n",
        "#plt.xlabel(\"Frequency (THz)\", fontsize=8)\n",
        "#plt.ylabel(\"Frequency (THz)\", fontsize=8)\n",
        "plt.savefig(\"Quant_actual.svg\")"
      ],
      "execution_count": 0,
      "outputs": [
        {
          "output_type": "display_data",
          "data": {
            "image/png": "[encoded data removed]",
            "text/plain": [
              "<Figure size 108x108 with 1 Axes>"
            ]
          },
          "metadata": {
            "tags": []
          }
        }
      ]
    },
    {
      "cell_type": "code",
      "metadata": {
        "id": "3LyKBpCe2ip2",
        "colab_type": "code",
        "colab": {}
      },
      "source": [
        "plt.figure(figsize=(4,4))\n",
        "plt.contour(pq,20)\n",
        "plt.xlabel(\"Frequency (THz)\", fontsize=10)\n",
        "plt.ylabel(\"Frequency (THz)\", fontsize=10)\n",
        "\n",
        "plt.savefig(\"Quant_actual.eps\")"
      ],
      "execution_count": 0,
      "outputs": []
    },
    {
      "cell_type": "code",
      "metadata": {
        "id": "hqd7HV_3pvlp",
        "colab_type": "code",
        "outputId": "79e379f8-33fd-4008-a6ae-eca9e694c765",
        "colab": {
          "base_uri": "https://localhost:8080/",
          "height": 286
        }
      },
      "source": [
        "test(pq)"
      ],
      "execution_count": 0,
      "outputs": [
        {
          "output_type": "execute_result",
          "data": {
            "text/plain": [
              "array([0.04557687, 0.103035  ], dtype=float32)"
            ]
          },
          "metadata": {
            "tags": []
          },
          "execution_count": 55
        },
        {
          "output_type": "display_data",
          "data": {
            "image/png": "[encoded data removed]",
            "text/plain": [
              "<Figure size 288x288 with 1 Axes>"
            ]
          },
          "metadata": {
            "tags": []
          }
        }
      ]
    },
    {
      "cell_type": "code",
      "metadata": {
        "id": "itG6_hTTO5JG",
        "colab_type": "code",
        "outputId": "b01cb387-2dcc-431f-e2f1-513747620c03",
        "colab": {
          "base_uri": "https://localhost:8080/",
          "height": 143
        }
      },
      "source": [
        "df1 = df[df['lambda_tu'] > 0.04]\n",
        "df1 = df1[df1['lambda_tu'] < 0.048]\n",
        "df1 = df1[df1['dw'] < 0.11]\n",
        "df1 = df1[df1['dw'] > 0.1]\n",
        "df1"
      ],
      "execution_count": 0,
      "outputs": [
        {
          "output_type": "execute_result",
          "data": {
            "text/html": [
              "<div>\n",
              "<style scoped>\n",
              "    .dataframe tbody tr th:only-of-type {\n",
              "        vertical-align: middle;\n",
              "    }\n",
              "\n",
              "    .dataframe tbody tr th {\n",
              "        vertical-align: top;\n",
              "    }\n",
              "\n",
              "    .dataframe thead th {\n",
              "        text-align: right;\n",
              "    }\n",
              "</style>\n",
              "<table border=\"1\" class=\"dataframe\">\n",
              "  <thead>\n",
              "    <tr style=\"text-align: right;\">\n",
              "      <th></th>\n",
              "      <th>lambda_tu</th>\n",
              "      <th>dw</th>\n",
              "      <th>file</th>\n",
              "    </tr>\n",
              "  </thead>\n",
              "  <tbody>\n",
              "    <tr>\n",
              "      <th>608</th>\n",
              "      <td>0.043714</td>\n",
              "      <td>0.10159</td>\n",
              "      <td>609.csv</td>\n",
              "    </tr>\n",
              "    <tr>\n",
              "      <th>609</th>\n",
              "      <td>0.043714</td>\n",
              "      <td>0.10476</td>\n",
              "      <td>610.csv</td>\n",
              "    </tr>\n",
              "    <tr>\n",
              "      <th>610</th>\n",
              "      <td>0.043714</td>\n",
              "      <td>0.10794</td>\n",
              "      <td>611.csv</td>\n",
              "    </tr>\n",
              "  </tbody>\n",
              "</table>\n",
              "</div>"
            ],
            "text/plain": [
              "     lambda_tu       dw     file\n",
              "608   0.043714  0.10159  609.csv\n",
              "609   0.043714  0.10476  610.csv\n",
              "610   0.043714  0.10794  611.csv"
            ]
          },
          "metadata": {
            "tags": []
          },
          "execution_count": 52
        }
      ]
    },
    {
      "cell_type": "code",
      "metadata": {
        "id": "74QhQsITPpdH",
        "colab_type": "code",
        "outputId": "7138f466-ecf0-405a-f5c1-d90ed80116a2",
        "colab": {
          "base_uri": "https://localhost:8080/",
          "height": 293
        }
      },
      "source": [
        "plt.figure(figsize=(4,4))\n",
        "plt.contour(np.array(pd.read_csv('609.csv')), 20)\n",
        "\n",
        "plt.savefig(\"Quant_pred.eps\")"
      ],
      "execution_count": 0,
      "outputs": [
        {
          "output_type": "display_data",
          "data": {
            "image/png": "[encoded data removed]",
            "text/plain": [
              "<Figure size 288x288 with 1 Axes>"
            ]
          },
          "metadata": {
            "tags": []
          }
        }
      ]
    },
    {
      "cell_type": "code",
      "metadata": {
        "id": "NaP72S-o42ij",
        "colab_type": "code",
        "colab": {}
      },
      "source": [
        "def test1_eps(df):\n",
        "  \n",
        "  df = np.array(df)\n",
        "  \n",
        "  df = scaler(df)\n",
        "  \n",
        "  \n",
        "  df_extract = np.array(df)[240:280, 360:410]\n",
        "  \n",
        "  df_extract = cv2.resize(df_extract, dsize=(64,64))\n",
        "\n",
        "  plt.figure()\n",
        "  plt.contour(df_extract)\n",
        "  plt.savefig(\"exp1.eps\")\n",
        "  \n",
        "  df_extract = df_extract.reshape((1,64,64,1))\n",
        "  \n",
        "  k = model.predict(df_extract)[0]\n",
        "  \n",
        "  for i in range(2):\n",
        "    if k[i] < 0:\n",
        "      k[i] = 0\n",
        "  \n",
        "  return k"
      ],
      "execution_count": 0,
      "outputs": []
    },
    {
      "cell_type": "code",
      "metadata": {
        "id": "gnt4dUDqFv97",
        "colab_type": "code",
        "colab": {}
      },
      "source": [
        "def test2_eps(df):\n",
        "  \n",
        "  df = np.array(df)/4.13\n",
        "  \n",
        "  df = scaler(df)\n",
        "  \n",
        "  \n",
        "  x = 765\n",
        "  y = 280\n",
        "  \n",
        "   \n",
        "  df_extract = np.array(df)[720:850, 250:360]\n",
        "  \n",
        "  df_extract = cv2.resize(df_extract, dsize=(64,64))\n",
        "\n",
        "  plt.figure()\n",
        "  plt.contour(df_extract)\n",
        "  plt.savefig(\"exp2.eps\")\n",
        "  \n",
        "  \n",
        "  df_extract = df_extract.reshape((1,64,64,1))\n",
        "  \n",
        "  \n",
        "  return model.predict(df_extract)"
      ],
      "execution_count": 0,
      "outputs": []
    },
    {
      "cell_type": "code",
      "metadata": {
        "id": "WCWV271HIvcb",
        "colab_type": "code",
        "colab": {}
      },
      "source": [
        "test2_eps(exp3)"
      ],
      "execution_count": 0,
      "outputs": []
    },
    {
      "cell_type": "code",
      "metadata": {
        "id": "5NUpg_AA6hOh",
        "colab_type": "code",
        "outputId": "debc0f3a-2110-400a-ef6f-ebb136c4c91a",
        "colab": {
          "base_uri": "https://localhost:8080/",
          "height": 128
        }
      },
      "source": [
        "k_vape_sim = pd.read_csv(\"k_vape_sim.csv\", header = None)\n",
        "\n",
        "k_vape_sim = np.array(k_vape_sim)\n",
        "\n",
        "plt.figure(figsize=(1.5,1.5));\n",
        "plt.contour(k_vape_sim, 20, cmap = 'inferno');\n",
        "plt.xticks(np.arange(0,135,60) ,np.arange(374,376.5), fontsize=8);\n",
        "plt.yticks(np.arange(0,135,60) ,np.arange(374,376.5), fontsize=8);\n",
        "plt.savefig(\"kvape_sim.svg\")"
      ],
      "execution_count": 0,
      "outputs": [
        {
          "output_type": "display_data",
          "data": {
            "image/png": "[encoded data removed]",
            "text/plain": [
              "<Figure size 108x108 with 1 Axes>"
            ]
          },
          "metadata": {
            "tags": []
          }
        }
      ]
    },
    {
      "cell_type": "code",
      "metadata": {
        "id": "jHCx0lMI98cU",
        "colab_type": "code",
        "outputId": "7163c304-6d62-4d7c-c704-138f2caf6df1",
        "colab": {
          "base_uri": "https://localhost:8080/",
          "height": 128
        }
      },
      "source": [
        "Q_well_sim = pd.read_csv(\"Q_well_sim.csv\", header = None)\n",
        "\n",
        "Q_well_sim = np.array(Q_well_sim)\n",
        "\n",
        "plt.figure(figsize=(1.5,1.5));\n",
        "plt.contour(Q_well_sim, 20, cmap = 'inferno');\n",
        "plt.xticks(np.arange(0,135,60) ,np.arange(374,376.5), fontsize=8);\n",
        "plt.yticks(np.arange(0,135,60) ,np.arange(374,376.5), fontsize=8);\n",
        "plt.savefig(\"quant_sim.svg\")"
      ],
      "execution_count": 0,
      "outputs": [
        {
          "output_type": "display_data",
          "data": {
            "image/png": "[encoded data removed]",
            "text/plain": [
              "<Figure size 108x108 with 1 Axes>"
            ]
          },
          "metadata": {
            "tags": []
          }
        }
      ]
    },
    {
      "cell_type": "code",
      "metadata": {
        "id": "IJxAVGYI8gPR",
        "colab_type": "code",
        "colab": {}
      },
      "source": [
        ""
      ],
      "execution_count": 0,
      "outputs": []
    }
  ]
}